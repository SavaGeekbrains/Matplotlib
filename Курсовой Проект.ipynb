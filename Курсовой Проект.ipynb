{
 "cells": [
  {
   "cell_type": "markdown",
   "metadata": {},
   "source": [
    "Курсовой проект для курса \"Python для Data Science\""
   ]
  },
  {
   "cell_type": "markdown",
   "metadata": {},
   "source": [
    "\n",
    "Загружаем набор данных"
   ]
  },
  {
   "cell_type": "code",
   "execution_count": 3,
   "metadata": {},
   "outputs": [],
   "source": [
    "\n",
    "import pandas as pd\n",
    "import matplotlib.pyplot as plt\n",
    "import seaborn as sns\n",
    "\n",
    "from scipy.stats import norm\n",
    "from scipy import stats\n",
    "\n",
    "\n",
    "# %matplotlib inline\n",
    "# %config InlineBackend.figure_format = 'svg'"
   ]
  },
  {
   "cell_type": "code",
   "execution_count": 4,
   "metadata": {},
   "outputs": [],
   "source": [
    "def optimizing_df(df):\n",
    "    for col in df.columns:\n",
    "        if df[col].dtypes.kind == 'i' or df[col].dtypes.kind == 'u':\n",
    "            if df[col].min() >= 0:\n",
    "                df[col] = pd.to_numeric(df[col], downcast='unsigned')\n",
    "            else:\n",
    "                df[col] = pd.to_numeric(df[col], downcast='integer')\n",
    "\n",
    "        elif df[col].dtypes.kind == 'f' or df[col].dtypes.kind == 'c':\n",
    "            df[col] = pd.to_numeric(df[col], downcast='float')\n",
    "\n",
    "        elif df[col].dtypes.kind == 'O':\n",
    "            num_unique_values = len(df[col].unique())\n",
    "            num_total_values = len(df[col])\n",
    "            if num_unique_values / num_total_values < 0.5:\n",
    "                df[col] = df[col].astype('category')\n",
    "\n",
    "    return df"
   ]
  },
  {
   "cell_type": "markdown",
   "metadata": {},
   "source": [
    "Загружаю данные"
   ]
  },
  {
   "cell_type": "code",
   "execution_count": 5,
   "metadata": {},
   "outputs": [
    {
     "name": "stdout",
     "output_type": "stream",
     "text": [
      "Data is loaded!\n"
     ]
    }
   ],
   "source": [
    "train = pd.read_csv('train.csv')\n",
    "test = pd.read_csv('test.csv')\n",
    "print(\"Data is loaded!\")"
   ]
  },
  {
   "cell_type": "code",
   "execution_count": 6,
   "metadata": {},
   "outputs": [
    {
     "name": "stdout",
     "output_type": "stream",
     "text": [
      "Train:\t10000\t sales and 20 features\n",
      "Test:\t5000\t sales and 19 features\n"
     ]
    }
   ],
   "source": [
    "print(f\"Train:\\t{train.shape[0]}\\t sales and {train.shape[1]} features\")\n",
    "print(f'Test:\\t{test.shape[0]}\\t sales and {test.shape[1]} features')"
   ]
  },
  {
   "cell_type": "code",
   "execution_count": 7,
   "metadata": {},
   "outputs": [
    {
     "data": {
      "text/html": [
       "<div>\n",
       "<style scoped>\n",
       "    .dataframe tbody tr th:only-of-type {\n",
       "        vertical-align: middle;\n",
       "    }\n",
       "\n",
       "    .dataframe tbody tr th {\n",
       "        vertical-align: top;\n",
       "    }\n",
       "\n",
       "    .dataframe thead th {\n",
       "        text-align: right;\n",
       "    }\n",
       "</style>\n",
       "<table border=\"1\" class=\"dataframe\">\n",
       "  <thead>\n",
       "    <tr style=\"text-align: right;\">\n",
       "      <th></th>\n",
       "      <th>Id</th>\n",
       "      <th>DistrictId</th>\n",
       "      <th>Rooms</th>\n",
       "      <th>Square</th>\n",
       "      <th>LifeSquare</th>\n",
       "      <th>KitchenSquare</th>\n",
       "      <th>Floor</th>\n",
       "      <th>HouseFloor</th>\n",
       "      <th>HouseYear</th>\n",
       "      <th>Ecology_1</th>\n",
       "      <th>Ecology_2</th>\n",
       "      <th>Ecology_3</th>\n",
       "      <th>Social_1</th>\n",
       "      <th>Social_2</th>\n",
       "      <th>Social_3</th>\n",
       "      <th>Healthcare_1</th>\n",
       "      <th>Helthcare_2</th>\n",
       "      <th>Shops_1</th>\n",
       "      <th>Shops_2</th>\n",
       "      <th>Price</th>\n",
       "    </tr>\n",
       "  </thead>\n",
       "  <tbody>\n",
       "    <tr>\n",
       "      <th>0</th>\n",
       "      <td>14038</td>\n",
       "      <td>35</td>\n",
       "      <td>2.0</td>\n",
       "      <td>47.981561</td>\n",
       "      <td>29.442751</td>\n",
       "      <td>6.0</td>\n",
       "      <td>7</td>\n",
       "      <td>9.0</td>\n",
       "      <td>1969</td>\n",
       "      <td>0.089040</td>\n",
       "      <td>B</td>\n",
       "      <td>B</td>\n",
       "      <td>33</td>\n",
       "      <td>7976</td>\n",
       "      <td>5</td>\n",
       "      <td>NaN</td>\n",
       "      <td>0</td>\n",
       "      <td>11</td>\n",
       "      <td>B</td>\n",
       "      <td>184966.930730</td>\n",
       "    </tr>\n",
       "    <tr>\n",
       "      <th>1</th>\n",
       "      <td>15053</td>\n",
       "      <td>41</td>\n",
       "      <td>3.0</td>\n",
       "      <td>65.683640</td>\n",
       "      <td>40.049543</td>\n",
       "      <td>8.0</td>\n",
       "      <td>7</td>\n",
       "      <td>9.0</td>\n",
       "      <td>1978</td>\n",
       "      <td>0.000070</td>\n",
       "      <td>B</td>\n",
       "      <td>B</td>\n",
       "      <td>46</td>\n",
       "      <td>10309</td>\n",
       "      <td>1</td>\n",
       "      <td>240.0</td>\n",
       "      <td>1</td>\n",
       "      <td>16</td>\n",
       "      <td>B</td>\n",
       "      <td>300009.450063</td>\n",
       "    </tr>\n",
       "    <tr>\n",
       "      <th>2</th>\n",
       "      <td>4765</td>\n",
       "      <td>53</td>\n",
       "      <td>2.0</td>\n",
       "      <td>44.947953</td>\n",
       "      <td>29.197612</td>\n",
       "      <td>0.0</td>\n",
       "      <td>8</td>\n",
       "      <td>12.0</td>\n",
       "      <td>1968</td>\n",
       "      <td>0.049637</td>\n",
       "      <td>B</td>\n",
       "      <td>B</td>\n",
       "      <td>34</td>\n",
       "      <td>7759</td>\n",
       "      <td>0</td>\n",
       "      <td>229.0</td>\n",
       "      <td>1</td>\n",
       "      <td>3</td>\n",
       "      <td>B</td>\n",
       "      <td>220925.908524</td>\n",
       "    </tr>\n",
       "    <tr>\n",
       "      <th>3</th>\n",
       "      <td>5809</td>\n",
       "      <td>58</td>\n",
       "      <td>2.0</td>\n",
       "      <td>53.352981</td>\n",
       "      <td>52.731512</td>\n",
       "      <td>9.0</td>\n",
       "      <td>8</td>\n",
       "      <td>17.0</td>\n",
       "      <td>1977</td>\n",
       "      <td>0.437885</td>\n",
       "      <td>B</td>\n",
       "      <td>B</td>\n",
       "      <td>23</td>\n",
       "      <td>5735</td>\n",
       "      <td>3</td>\n",
       "      <td>1084.0</td>\n",
       "      <td>0</td>\n",
       "      <td>5</td>\n",
       "      <td>B</td>\n",
       "      <td>175616.227217</td>\n",
       "    </tr>\n",
       "    <tr>\n",
       "      <th>4</th>\n",
       "      <td>10783</td>\n",
       "      <td>99</td>\n",
       "      <td>1.0</td>\n",
       "      <td>39.649192</td>\n",
       "      <td>23.776169</td>\n",
       "      <td>7.0</td>\n",
       "      <td>11</td>\n",
       "      <td>12.0</td>\n",
       "      <td>1976</td>\n",
       "      <td>0.012339</td>\n",
       "      <td>B</td>\n",
       "      <td>B</td>\n",
       "      <td>35</td>\n",
       "      <td>5776</td>\n",
       "      <td>1</td>\n",
       "      <td>2078.0</td>\n",
       "      <td>2</td>\n",
       "      <td>4</td>\n",
       "      <td>B</td>\n",
       "      <td>150226.531644</td>\n",
       "    </tr>\n",
       "  </tbody>\n",
       "</table>\n",
       "</div>"
      ],
      "text/plain": [
       "      Id  DistrictId  Rooms     Square  LifeSquare  KitchenSquare  Floor  \\\n",
       "0  14038          35    2.0  47.981561   29.442751            6.0      7   \n",
       "1  15053          41    3.0  65.683640   40.049543            8.0      7   \n",
       "2   4765          53    2.0  44.947953   29.197612            0.0      8   \n",
       "3   5809          58    2.0  53.352981   52.731512            9.0      8   \n",
       "4  10783          99    1.0  39.649192   23.776169            7.0     11   \n",
       "\n",
       "   HouseFloor  HouseYear  Ecology_1 Ecology_2 Ecology_3  Social_1  Social_2  \\\n",
       "0         9.0       1969   0.089040         B         B        33      7976   \n",
       "1         9.0       1978   0.000070         B         B        46     10309   \n",
       "2        12.0       1968   0.049637         B         B        34      7759   \n",
       "3        17.0       1977   0.437885         B         B        23      5735   \n",
       "4        12.0       1976   0.012339         B         B        35      5776   \n",
       "\n",
       "   Social_3  Healthcare_1  Helthcare_2  Shops_1 Shops_2          Price  \n",
       "0         5           NaN            0       11       B  184966.930730  \n",
       "1         1         240.0            1       16       B  300009.450063  \n",
       "2         0         229.0            1        3       B  220925.908524  \n",
       "3         3        1084.0            0        5       B  175616.227217  \n",
       "4         1        2078.0            2        4       B  150226.531644  "
      ]
     },
     "execution_count": 7,
     "metadata": {},
     "output_type": "execute_result"
    }
   ],
   "source": [
    "train.head()"
   ]
  },
  {
   "cell_type": "code",
   "execution_count": 8,
   "metadata": {},
   "outputs": [
    {
     "data": {
      "text/html": [
       "<div>\n",
       "<style scoped>\n",
       "    .dataframe tbody tr th:only-of-type {\n",
       "        vertical-align: middle;\n",
       "    }\n",
       "\n",
       "    .dataframe tbody tr th {\n",
       "        vertical-align: top;\n",
       "    }\n",
       "\n",
       "    .dataframe thead th {\n",
       "        text-align: right;\n",
       "    }\n",
       "</style>\n",
       "<table border=\"1\" class=\"dataframe\">\n",
       "  <thead>\n",
       "    <tr style=\"text-align: right;\">\n",
       "      <th></th>\n",
       "      <th>Id</th>\n",
       "      <th>DistrictId</th>\n",
       "      <th>Rooms</th>\n",
       "      <th>Square</th>\n",
       "      <th>LifeSquare</th>\n",
       "      <th>KitchenSquare</th>\n",
       "      <th>Floor</th>\n",
       "      <th>HouseFloor</th>\n",
       "      <th>HouseYear</th>\n",
       "      <th>Ecology_1</th>\n",
       "      <th>Ecology_2</th>\n",
       "      <th>Ecology_3</th>\n",
       "      <th>Social_1</th>\n",
       "      <th>Social_2</th>\n",
       "      <th>Social_3</th>\n",
       "      <th>Healthcare_1</th>\n",
       "      <th>Helthcare_2</th>\n",
       "      <th>Shops_1</th>\n",
       "      <th>Shops_2</th>\n",
       "    </tr>\n",
       "  </thead>\n",
       "  <tbody>\n",
       "    <tr>\n",
       "      <th>0</th>\n",
       "      <td>725</td>\n",
       "      <td>58</td>\n",
       "      <td>2.0</td>\n",
       "      <td>49.882643</td>\n",
       "      <td>33.432782</td>\n",
       "      <td>6.0</td>\n",
       "      <td>6</td>\n",
       "      <td>14.0</td>\n",
       "      <td>1972</td>\n",
       "      <td>0.310199</td>\n",
       "      <td>B</td>\n",
       "      <td>B</td>\n",
       "      <td>11</td>\n",
       "      <td>2748</td>\n",
       "      <td>1</td>\n",
       "      <td>NaN</td>\n",
       "      <td>0</td>\n",
       "      <td>0</td>\n",
       "      <td>B</td>\n",
       "    </tr>\n",
       "    <tr>\n",
       "      <th>1</th>\n",
       "      <td>15856</td>\n",
       "      <td>74</td>\n",
       "      <td>2.0</td>\n",
       "      <td>69.263183</td>\n",
       "      <td>NaN</td>\n",
       "      <td>1.0</td>\n",
       "      <td>6</td>\n",
       "      <td>1.0</td>\n",
       "      <td>1977</td>\n",
       "      <td>0.075779</td>\n",
       "      <td>B</td>\n",
       "      <td>B</td>\n",
       "      <td>6</td>\n",
       "      <td>1437</td>\n",
       "      <td>3</td>\n",
       "      <td>NaN</td>\n",
       "      <td>0</td>\n",
       "      <td>2</td>\n",
       "      <td>B</td>\n",
       "    </tr>\n",
       "    <tr>\n",
       "      <th>2</th>\n",
       "      <td>5480</td>\n",
       "      <td>190</td>\n",
       "      <td>1.0</td>\n",
       "      <td>13.597819</td>\n",
       "      <td>15.948246</td>\n",
       "      <td>12.0</td>\n",
       "      <td>2</td>\n",
       "      <td>5.0</td>\n",
       "      <td>1909</td>\n",
       "      <td>0.000000</td>\n",
       "      <td>B</td>\n",
       "      <td>B</td>\n",
       "      <td>30</td>\n",
       "      <td>7538</td>\n",
       "      <td>87</td>\n",
       "      <td>4702.0</td>\n",
       "      <td>5</td>\n",
       "      <td>5</td>\n",
       "      <td>B</td>\n",
       "    </tr>\n",
       "    <tr>\n",
       "      <th>3</th>\n",
       "      <td>15664</td>\n",
       "      <td>47</td>\n",
       "      <td>2.0</td>\n",
       "      <td>73.046609</td>\n",
       "      <td>51.940842</td>\n",
       "      <td>9.0</td>\n",
       "      <td>22</td>\n",
       "      <td>22.0</td>\n",
       "      <td>2007</td>\n",
       "      <td>0.101872</td>\n",
       "      <td>B</td>\n",
       "      <td>B</td>\n",
       "      <td>23</td>\n",
       "      <td>4583</td>\n",
       "      <td>3</td>\n",
       "      <td>NaN</td>\n",
       "      <td>3</td>\n",
       "      <td>3</td>\n",
       "      <td>B</td>\n",
       "    </tr>\n",
       "    <tr>\n",
       "      <th>4</th>\n",
       "      <td>14275</td>\n",
       "      <td>27</td>\n",
       "      <td>1.0</td>\n",
       "      <td>47.527111</td>\n",
       "      <td>43.387569</td>\n",
       "      <td>1.0</td>\n",
       "      <td>17</td>\n",
       "      <td>17.0</td>\n",
       "      <td>2017</td>\n",
       "      <td>0.072158</td>\n",
       "      <td>B</td>\n",
       "      <td>B</td>\n",
       "      <td>2</td>\n",
       "      <td>629</td>\n",
       "      <td>1</td>\n",
       "      <td>NaN</td>\n",
       "      <td>0</td>\n",
       "      <td>0</td>\n",
       "      <td>A</td>\n",
       "    </tr>\n",
       "  </tbody>\n",
       "</table>\n",
       "</div>"
      ],
      "text/plain": [
       "      Id  DistrictId  Rooms     Square  LifeSquare  KitchenSquare  Floor  \\\n",
       "0    725          58    2.0  49.882643   33.432782            6.0      6   \n",
       "1  15856          74    2.0  69.263183         NaN            1.0      6   \n",
       "2   5480         190    1.0  13.597819   15.948246           12.0      2   \n",
       "3  15664          47    2.0  73.046609   51.940842            9.0     22   \n",
       "4  14275          27    1.0  47.527111   43.387569            1.0     17   \n",
       "\n",
       "   HouseFloor  HouseYear  Ecology_1 Ecology_2 Ecology_3  Social_1  Social_2  \\\n",
       "0        14.0       1972   0.310199         B         B        11      2748   \n",
       "1         1.0       1977   0.075779         B         B         6      1437   \n",
       "2         5.0       1909   0.000000         B         B        30      7538   \n",
       "3        22.0       2007   0.101872         B         B        23      4583   \n",
       "4        17.0       2017   0.072158         B         B         2       629   \n",
       "\n",
       "   Social_3  Healthcare_1  Helthcare_2  Shops_1 Shops_2  \n",
       "0         1           NaN            0        0       B  \n",
       "1         3           NaN            0        2       B  \n",
       "2        87        4702.0            5        5       B  \n",
       "3         3           NaN            3        3       B  \n",
       "4         1           NaN            0        0       A  "
      ]
     },
     "execution_count": 8,
     "metadata": {},
     "output_type": "execute_result"
    }
   ],
   "source": [
    "test.head()"
   ]
  },
  {
   "cell_type": "code",
   "execution_count": 9,
   "metadata": {},
   "outputs": [
    {
     "name": "stdout",
     "output_type": "stream",
     "text": [
      "<class 'pandas.core.frame.DataFrame'>\n",
      "RangeIndex: 10000 entries, 0 to 9999\n",
      "Data columns (total 20 columns):\n",
      " #   Column         Non-Null Count  Dtype  \n",
      "---  ------         --------------  -----  \n",
      " 0   Id             10000 non-null  int64  \n",
      " 1   DistrictId     10000 non-null  int64  \n",
      " 2   Rooms          10000 non-null  float64\n",
      " 3   Square         10000 non-null  float64\n",
      " 4   LifeSquare     7887 non-null   float64\n",
      " 5   KitchenSquare  10000 non-null  float64\n",
      " 6   Floor          10000 non-null  int64  \n",
      " 7   HouseFloor     10000 non-null  float64\n",
      " 8   HouseYear      10000 non-null  int64  \n",
      " 9   Ecology_1      10000 non-null  float64\n",
      " 10  Ecology_2      10000 non-null  object \n",
      " 11  Ecology_3      10000 non-null  object \n",
      " 12  Social_1       10000 non-null  int64  \n",
      " 13  Social_2       10000 non-null  int64  \n",
      " 14  Social_3       10000 non-null  int64  \n",
      " 15  Healthcare_1   5202 non-null   float64\n",
      " 16  Helthcare_2    10000 non-null  int64  \n",
      " 17  Shops_1        10000 non-null  int64  \n",
      " 18  Shops_2        10000 non-null  object \n",
      " 19  Price          10000 non-null  float64\n",
      "dtypes: float64(8), int64(9), object(3)\n",
      "memory usage: 3.2 MB\n"
     ]
    }
   ],
   "source": [
    "train.info(memory_usage='deep')"
   ]
  },
  {
   "cell_type": "code",
   "execution_count": 10,
   "metadata": {},
   "outputs": [
    {
     "name": "stdout",
     "output_type": "stream",
     "text": [
      "<class 'pandas.core.frame.DataFrame'>\n",
      "RangeIndex: 5000 entries, 0 to 4999\n",
      "Data columns (total 19 columns):\n",
      " #   Column         Non-Null Count  Dtype  \n",
      "---  ------         --------------  -----  \n",
      " 0   Id             5000 non-null   int64  \n",
      " 1   DistrictId     5000 non-null   int64  \n",
      " 2   Rooms          5000 non-null   float64\n",
      " 3   Square         5000 non-null   float64\n",
      " 4   LifeSquare     3959 non-null   float64\n",
      " 5   KitchenSquare  5000 non-null   float64\n",
      " 6   Floor          5000 non-null   int64  \n",
      " 7   HouseFloor     5000 non-null   float64\n",
      " 8   HouseYear      5000 non-null   int64  \n",
      " 9   Ecology_1      5000 non-null   float64\n",
      " 10  Ecology_2      5000 non-null   object \n",
      " 11  Ecology_3      5000 non-null   object \n",
      " 12  Social_1       5000 non-null   int64  \n",
      " 13  Social_2       5000 non-null   int64  \n",
      " 14  Social_3       5000 non-null   int64  \n",
      " 15  Healthcare_1   2623 non-null   float64\n",
      " 16  Helthcare_2    5000 non-null   int64  \n",
      " 17  Shops_1        5000 non-null   int64  \n",
      " 18  Shops_2        5000 non-null   object \n",
      "dtypes: float64(7), int64(9), object(3)\n",
      "memory usage: 1.6 MB\n"
     ]
    }
   ],
   "source": [
    "test.info(memory_usage='deep')"
   ]
  },
  {
   "cell_type": "code",
   "execution_count": 11,
   "metadata": {},
   "outputs": [],
   "source": [
    "train['Rooms'] = train['Rooms'].astype('int64')\n",
    "test['Rooms'] = test['Rooms'].astype('int64')"
   ]
  },
  {
   "cell_type": "code",
   "execution_count": 12,
   "metadata": {},
   "outputs": [],
   "source": [
    "train['HouseFloor'] = train['HouseFloor'].astype('int64')\n",
    "test['HouseFloor'] = test['HouseFloor'].astype('int64')"
   ]
  },
  {
   "cell_type": "code",
   "execution_count": 13,
   "metadata": {},
   "outputs": [],
   "source": [
    "train = optimizing_df(train)\n",
    "test = optimizing_df(test)"
   ]
  },
  {
   "cell_type": "code",
   "execution_count": 14,
   "metadata": {},
   "outputs": [
    {
     "name": "stdout",
     "output_type": "stream",
     "text": [
      "<class 'pandas.core.frame.DataFrame'>\n",
      "RangeIndex: 10000 entries, 0 to 9999\n",
      "Data columns (total 20 columns):\n",
      " #   Column         Non-Null Count  Dtype   \n",
      "---  ------         --------------  -----   \n",
      " 0   Id             10000 non-null  uint16  \n",
      " 1   DistrictId     10000 non-null  uint8   \n",
      " 2   Rooms          10000 non-null  uint8   \n",
      " 3   Square         10000 non-null  float32 \n",
      " 4   LifeSquare     7887 non-null   float32 \n",
      " 5   KitchenSquare  10000 non-null  float32 \n",
      " 6   Floor          10000 non-null  uint8   \n",
      " 7   HouseFloor     10000 non-null  uint8   \n",
      " 8   HouseYear      10000 non-null  uint32  \n",
      " 9   Ecology_1      10000 non-null  float32 \n",
      " 10  Ecology_2      10000 non-null  category\n",
      " 11  Ecology_3      10000 non-null  category\n",
      " 12  Social_1       10000 non-null  uint8   \n",
      " 13  Social_2       10000 non-null  uint16  \n",
      " 14  Social_3       10000 non-null  uint8   \n",
      " 15  Healthcare_1   5202 non-null   float32 \n",
      " 16  Helthcare_2    10000 non-null  uint8   \n",
      " 17  Shops_1        10000 non-null  uint8   \n",
      " 18  Shops_2        10000 non-null  category\n",
      " 19  Price          10000 non-null  float32 \n",
      "dtypes: category(3), float32(6), uint16(2), uint32(1), uint8(8)\n",
      "memory usage: 420.7 KB\n"
     ]
    }
   ],
   "source": [
    "train.info(memory_usage='deep')"
   ]
  },
  {
   "cell_type": "code",
   "execution_count": 15,
   "metadata": {},
   "outputs": [
    {
     "name": "stdout",
     "output_type": "stream",
     "text": [
      "<class 'pandas.core.frame.DataFrame'>\n",
      "RangeIndex: 5000 entries, 0 to 4999\n",
      "Data columns (total 19 columns):\n",
      " #   Column         Non-Null Count  Dtype   \n",
      "---  ------         --------------  -----   \n",
      " 0   Id             5000 non-null   uint16  \n",
      " 1   DistrictId     5000 non-null   uint8   \n",
      " 2   Rooms          5000 non-null   uint8   \n",
      " 3   Square         5000 non-null   float32 \n",
      " 4   LifeSquare     3959 non-null   float32 \n",
      " 5   KitchenSquare  5000 non-null   float32 \n",
      " 6   Floor          5000 non-null   uint8   \n",
      " 7   HouseFloor     5000 non-null   uint8   \n",
      " 8   HouseYear      5000 non-null   uint16  \n",
      " 9   Ecology_1      5000 non-null   float32 \n",
      " 10  Ecology_2      5000 non-null   category\n",
      " 11  Ecology_3      5000 non-null   category\n",
      " 12  Social_1       5000 non-null   uint8   \n",
      " 13  Social_2       5000 non-null   uint16  \n",
      " 14  Social_3       5000 non-null   uint8   \n",
      " 15  Healthcare_1   2623 non-null   float32 \n",
      " 16  Helthcare_2    5000 non-null   uint8   \n",
      " 17  Shops_1        5000 non-null   uint8   \n",
      " 18  Shops_2        5000 non-null   category\n",
      "dtypes: category(3), float32(5), uint16(3), uint8(8)\n",
      "memory usage: 181.4 KB\n"
     ]
    }
   ],
   "source": [
    "test.info(memory_usage='deep')"
   ]
  },
  {
   "cell_type": "markdown",
   "metadata": {},
   "source": [
    "Проверка данных"
   ]
  },
  {
   "cell_type": "code",
   "execution_count": 16,
   "metadata": {},
   "outputs": [
    {
     "name": "stdout",
     "output_type": "stream",
     "text": [
      "all_data size is : (15000, 19)\n"
     ]
    }
   ],
   "source": [
    "all_data = pd.concat((train, test), sort=False).reset_index(drop=True)\n",
    "all_data.drop(['Price'], axis=1, inplace=True)\n",
    "print(f'all_data size is : {all_data.shape}')"
   ]
  },
  {
   "cell_type": "code",
   "execution_count": 17,
   "metadata": {},
   "outputs": [
    {
     "data": {
      "text/html": [
       "<div>\n",
       "<style scoped>\n",
       "    .dataframe tbody tr th:only-of-type {\n",
       "        vertical-align: middle;\n",
       "    }\n",
       "\n",
       "    .dataframe tbody tr th {\n",
       "        vertical-align: top;\n",
       "    }\n",
       "\n",
       "    .dataframe thead th {\n",
       "        text-align: right;\n",
       "    }\n",
       "</style>\n",
       "<table border=\"1\" class=\"dataframe\">\n",
       "  <thead>\n",
       "    <tr style=\"text-align: right;\">\n",
       "      <th></th>\n",
       "      <th>count</th>\n",
       "      <th>mean</th>\n",
       "      <th>std</th>\n",
       "      <th>min</th>\n",
       "      <th>25%</th>\n",
       "      <th>50%</th>\n",
       "      <th>75%</th>\n",
       "      <th>max</th>\n",
       "    </tr>\n",
       "  </thead>\n",
       "  <tbody>\n",
       "    <tr>\n",
       "      <th>Id</th>\n",
       "      <td>15000.0</td>\n",
       "      <td>8393.136933</td>\n",
       "      <td>4850.111673</td>\n",
       "      <td>0.000000</td>\n",
       "      <td>4188.750000</td>\n",
       "      <td>8378.500000</td>\n",
       "      <td>12594.250000</td>\n",
       "      <td>1.679800e+04</td>\n",
       "    </tr>\n",
       "    <tr>\n",
       "      <th>DistrictId</th>\n",
       "      <td>15000.0</td>\n",
       "      <td>50.693600</td>\n",
       "      <td>43.786257</td>\n",
       "      <td>0.000000</td>\n",
       "      <td>20.000000</td>\n",
       "      <td>37.000000</td>\n",
       "      <td>75.000000</td>\n",
       "      <td>2.120000e+02</td>\n",
       "    </tr>\n",
       "    <tr>\n",
       "      <th>Rooms</th>\n",
       "      <td>15000.0</td>\n",
       "      <td>1.897000</td>\n",
       "      <td>0.839229</td>\n",
       "      <td>0.000000</td>\n",
       "      <td>1.000000</td>\n",
       "      <td>2.000000</td>\n",
       "      <td>2.000000</td>\n",
       "      <td>1.900000e+01</td>\n",
       "    </tr>\n",
       "    <tr>\n",
       "      <th>Square</th>\n",
       "      <td>15000.0</td>\n",
       "      <td>56.360546</td>\n",
       "      <td>20.423899</td>\n",
       "      <td>1.136859</td>\n",
       "      <td>41.814370</td>\n",
       "      <td>52.645758</td>\n",
       "      <td>66.036606</td>\n",
       "      <td>6.410652e+02</td>\n",
       "    </tr>\n",
       "    <tr>\n",
       "      <th>LifeSquare</th>\n",
       "      <td>11846.0</td>\n",
       "      <td>36.851711</td>\n",
       "      <td>71.120201</td>\n",
       "      <td>0.333490</td>\n",
       "      <td>22.896130</td>\n",
       "      <td>32.822811</td>\n",
       "      <td>45.144627</td>\n",
       "      <td>7.480592e+03</td>\n",
       "    </tr>\n",
       "    <tr>\n",
       "      <th>KitchenSquare</th>\n",
       "      <td>15000.0</td>\n",
       "      <td>6.174467</td>\n",
       "      <td>24.017548</td>\n",
       "      <td>0.000000</td>\n",
       "      <td>1.000000</td>\n",
       "      <td>6.000000</td>\n",
       "      <td>9.000000</td>\n",
       "      <td>2.014000e+03</td>\n",
       "    </tr>\n",
       "    <tr>\n",
       "      <th>Floor</th>\n",
       "      <td>15000.0</td>\n",
       "      <td>8.561800</td>\n",
       "      <td>5.323113</td>\n",
       "      <td>1.000000</td>\n",
       "      <td>4.000000</td>\n",
       "      <td>7.000000</td>\n",
       "      <td>12.000000</td>\n",
       "      <td>7.800000e+01</td>\n",
       "    </tr>\n",
       "    <tr>\n",
       "      <th>HouseFloor</th>\n",
       "      <td>15000.0</td>\n",
       "      <td>12.606600</td>\n",
       "      <td>6.780165</td>\n",
       "      <td>0.000000</td>\n",
       "      <td>9.000000</td>\n",
       "      <td>12.000000</td>\n",
       "      <td>17.000000</td>\n",
       "      <td>1.170000e+02</td>\n",
       "    </tr>\n",
       "    <tr>\n",
       "      <th>HouseYear</th>\n",
       "      <td>15000.0</td>\n",
       "      <td>3321.575067</td>\n",
       "      <td>163707.780381</td>\n",
       "      <td>1908.000000</td>\n",
       "      <td>1974.000000</td>\n",
       "      <td>1977.000000</td>\n",
       "      <td>2001.000000</td>\n",
       "      <td>2.005201e+07</td>\n",
       "    </tr>\n",
       "    <tr>\n",
       "      <th>Ecology_1</th>\n",
       "      <td>15000.0</td>\n",
       "      <td>0.119195</td>\n",
       "      <td>0.119371</td>\n",
       "      <td>0.000000</td>\n",
       "      <td>0.017647</td>\n",
       "      <td>0.075424</td>\n",
       "      <td>0.195781</td>\n",
       "      <td>5.218670e-01</td>\n",
       "    </tr>\n",
       "    <tr>\n",
       "      <th>Social_1</th>\n",
       "      <td>15000.0</td>\n",
       "      <td>24.769267</td>\n",
       "      <td>17.532278</td>\n",
       "      <td>0.000000</td>\n",
       "      <td>6.000000</td>\n",
       "      <td>25.000000</td>\n",
       "      <td>36.000000</td>\n",
       "      <td>7.400000e+01</td>\n",
       "    </tr>\n",
       "    <tr>\n",
       "      <th>Social_2</th>\n",
       "      <td>15000.0</td>\n",
       "      <td>5370.404933</td>\n",
       "      <td>4013.364403</td>\n",
       "      <td>168.000000</td>\n",
       "      <td>1564.000000</td>\n",
       "      <td>5285.000000</td>\n",
       "      <td>7287.000000</td>\n",
       "      <td>1.908300e+04</td>\n",
       "    </tr>\n",
       "    <tr>\n",
       "      <th>Social_3</th>\n",
       "      <td>15000.0</td>\n",
       "      <td>8.113667</td>\n",
       "      <td>23.841946</td>\n",
       "      <td>0.000000</td>\n",
       "      <td>0.000000</td>\n",
       "      <td>2.000000</td>\n",
       "      <td>5.000000</td>\n",
       "      <td>1.410000e+02</td>\n",
       "    </tr>\n",
       "    <tr>\n",
       "      <th>Healthcare_1</th>\n",
       "      <td>7825.0</td>\n",
       "      <td>1144.162476</td>\n",
       "      <td>1029.307373</td>\n",
       "      <td>0.000000</td>\n",
       "      <td>350.000000</td>\n",
       "      <td>900.000000</td>\n",
       "      <td>1548.000000</td>\n",
       "      <td>4.849000e+03</td>\n",
       "    </tr>\n",
       "    <tr>\n",
       "      <th>Helthcare_2</th>\n",
       "      <td>15000.0</td>\n",
       "      <td>1.319467</td>\n",
       "      <td>1.489012</td>\n",
       "      <td>0.000000</td>\n",
       "      <td>0.000000</td>\n",
       "      <td>1.000000</td>\n",
       "      <td>2.000000</td>\n",
       "      <td>6.000000e+00</td>\n",
       "    </tr>\n",
       "    <tr>\n",
       "      <th>Shops_1</th>\n",
       "      <td>15000.0</td>\n",
       "      <td>4.235133</td>\n",
       "      <td>4.796545</td>\n",
       "      <td>0.000000</td>\n",
       "      <td>1.000000</td>\n",
       "      <td>3.000000</td>\n",
       "      <td>6.000000</td>\n",
       "      <td>2.300000e+01</td>\n",
       "    </tr>\n",
       "  </tbody>\n",
       "</table>\n",
       "</div>"
      ],
      "text/plain": [
       "                 count         mean            std          min          25%  \\\n",
       "Id             15000.0  8393.136933    4850.111673     0.000000  4188.750000   \n",
       "DistrictId     15000.0    50.693600      43.786257     0.000000    20.000000   \n",
       "Rooms          15000.0     1.897000       0.839229     0.000000     1.000000   \n",
       "Square         15000.0    56.360546      20.423899     1.136859    41.814370   \n",
       "LifeSquare     11846.0    36.851711      71.120201     0.333490    22.896130   \n",
       "KitchenSquare  15000.0     6.174467      24.017548     0.000000     1.000000   \n",
       "Floor          15000.0     8.561800       5.323113     1.000000     4.000000   \n",
       "HouseFloor     15000.0    12.606600       6.780165     0.000000     9.000000   \n",
       "HouseYear      15000.0  3321.575067  163707.780381  1908.000000  1974.000000   \n",
       "Ecology_1      15000.0     0.119195       0.119371     0.000000     0.017647   \n",
       "Social_1       15000.0    24.769267      17.532278     0.000000     6.000000   \n",
       "Social_2       15000.0  5370.404933    4013.364403   168.000000  1564.000000   \n",
       "Social_3       15000.0     8.113667      23.841946     0.000000     0.000000   \n",
       "Healthcare_1    7825.0  1144.162476    1029.307373     0.000000   350.000000   \n",
       "Helthcare_2    15000.0     1.319467       1.489012     0.000000     0.000000   \n",
       "Shops_1        15000.0     4.235133       4.796545     0.000000     1.000000   \n",
       "\n",
       "                       50%           75%           max  \n",
       "Id             8378.500000  12594.250000  1.679800e+04  \n",
       "DistrictId       37.000000     75.000000  2.120000e+02  \n",
       "Rooms             2.000000      2.000000  1.900000e+01  \n",
       "Square           52.645758     66.036606  6.410652e+02  \n",
       "LifeSquare       32.822811     45.144627  7.480592e+03  \n",
       "KitchenSquare     6.000000      9.000000  2.014000e+03  \n",
       "Floor             7.000000     12.000000  7.800000e+01  \n",
       "HouseFloor       12.000000     17.000000  1.170000e+02  \n",
       "HouseYear      1977.000000   2001.000000  2.005201e+07  \n",
       "Ecology_1         0.075424      0.195781  5.218670e-01  \n",
       "Social_1         25.000000     36.000000  7.400000e+01  \n",
       "Social_2       5285.000000   7287.000000  1.908300e+04  \n",
       "Social_3          2.000000      5.000000  1.410000e+02  \n",
       "Healthcare_1    900.000000   1548.000000  4.849000e+03  \n",
       "Helthcare_2       1.000000      2.000000  6.000000e+00  \n",
       "Shops_1           3.000000      6.000000  2.300000e+01  "
      ]
     },
     "execution_count": 17,
     "metadata": {},
     "output_type": "execute_result"
    }
   ],
   "source": [
    "all_data.describe().transpose()"
   ]
  },
  {
   "cell_type": "markdown",
   "metadata": {},
   "source": [
    "Fix Rooms"
   ]
  },
  {
   "cell_type": "code",
   "execution_count": 18,
   "metadata": {},
   "outputs": [
    {
     "data": {
      "text/html": [
       "<div>\n",
       "<style scoped>\n",
       "    .dataframe tbody tr th:only-of-type {\n",
       "        vertical-align: middle;\n",
       "    }\n",
       "\n",
       "    .dataframe tbody tr th {\n",
       "        vertical-align: top;\n",
       "    }\n",
       "\n",
       "    .dataframe thead th {\n",
       "        text-align: right;\n",
       "    }\n",
       "</style>\n",
       "<table border=\"1\" class=\"dataframe\">\n",
       "  <thead>\n",
       "    <tr style=\"text-align: right;\">\n",
       "      <th></th>\n",
       "      <th>Id</th>\n",
       "      <th>DistrictId</th>\n",
       "      <th>Rooms</th>\n",
       "      <th>Square</th>\n",
       "      <th>LifeSquare</th>\n",
       "      <th>KitchenSquare</th>\n",
       "      <th>Floor</th>\n",
       "      <th>HouseFloor</th>\n",
       "      <th>HouseYear</th>\n",
       "      <th>Ecology_1</th>\n",
       "      <th>Ecology_2</th>\n",
       "      <th>Ecology_3</th>\n",
       "      <th>Social_1</th>\n",
       "      <th>Social_2</th>\n",
       "      <th>Social_3</th>\n",
       "      <th>Healthcare_1</th>\n",
       "      <th>Helthcare_2</th>\n",
       "      <th>Shops_1</th>\n",
       "      <th>Shops_2</th>\n",
       "    </tr>\n",
       "  </thead>\n",
       "  <tbody>\n",
       "    <tr>\n",
       "      <th>377</th>\n",
       "      <td>5927</td>\n",
       "      <td>57</td>\n",
       "      <td>10</td>\n",
       "      <td>59.056976</td>\n",
       "      <td>36.223072</td>\n",
       "      <td>10.0</td>\n",
       "      <td>22</td>\n",
       "      <td>22</td>\n",
       "      <td>2002</td>\n",
       "      <td>0.090799</td>\n",
       "      <td>B</td>\n",
       "      <td>B</td>\n",
       "      <td>74</td>\n",
       "      <td>19083</td>\n",
       "      <td>2</td>\n",
       "      <td>NaN</td>\n",
       "      <td>5</td>\n",
       "      <td>15</td>\n",
       "      <td>B</td>\n",
       "    </tr>\n",
       "    <tr>\n",
       "      <th>1454</th>\n",
       "      <td>8491</td>\n",
       "      <td>1</td>\n",
       "      <td>19</td>\n",
       "      <td>42.006046</td>\n",
       "      <td>21.779287</td>\n",
       "      <td>7.0</td>\n",
       "      <td>17</td>\n",
       "      <td>17</td>\n",
       "      <td>2014</td>\n",
       "      <td>0.007122</td>\n",
       "      <td>B</td>\n",
       "      <td>B</td>\n",
       "      <td>1</td>\n",
       "      <td>264</td>\n",
       "      <td>0</td>\n",
       "      <td>NaN</td>\n",
       "      <td>0</td>\n",
       "      <td>1</td>\n",
       "      <td>B</td>\n",
       "    </tr>\n",
       "    <tr>\n",
       "      <th>8849</th>\n",
       "      <td>14865</td>\n",
       "      <td>9</td>\n",
       "      <td>10</td>\n",
       "      <td>60.871265</td>\n",
       "      <td>38.420681</td>\n",
       "      <td>10.0</td>\n",
       "      <td>3</td>\n",
       "      <td>2</td>\n",
       "      <td>1994</td>\n",
       "      <td>0.161532</td>\n",
       "      <td>B</td>\n",
       "      <td>B</td>\n",
       "      <td>25</td>\n",
       "      <td>5648</td>\n",
       "      <td>1</td>\n",
       "      <td>30.0</td>\n",
       "      <td>2</td>\n",
       "      <td>4</td>\n",
       "      <td>B</td>\n",
       "    </tr>\n",
       "    <tr>\n",
       "      <th>13398</th>\n",
       "      <td>1435</td>\n",
       "      <td>111</td>\n",
       "      <td>17</td>\n",
       "      <td>52.866108</td>\n",
       "      <td>32.528343</td>\n",
       "      <td>8.0</td>\n",
       "      <td>15</td>\n",
       "      <td>17</td>\n",
       "      <td>1987</td>\n",
       "      <td>0.093443</td>\n",
       "      <td>B</td>\n",
       "      <td>B</td>\n",
       "      <td>23</td>\n",
       "      <td>4635</td>\n",
       "      <td>5</td>\n",
       "      <td>3300.0</td>\n",
       "      <td>2</td>\n",
       "      <td>4</td>\n",
       "      <td>B</td>\n",
       "    </tr>\n",
       "  </tbody>\n",
       "</table>\n",
       "</div>"
      ],
      "text/plain": [
       "          Id  DistrictId  Rooms     Square  LifeSquare  KitchenSquare  Floor  \\\n",
       "377     5927          57     10  59.056976   36.223072           10.0     22   \n",
       "1454    8491           1     19  42.006046   21.779287            7.0     17   \n",
       "8849   14865           9     10  60.871265   38.420681           10.0      3   \n",
       "13398   1435         111     17  52.866108   32.528343            8.0     15   \n",
       "\n",
       "       HouseFloor  HouseYear  Ecology_1 Ecology_2 Ecology_3  Social_1  \\\n",
       "377            22       2002   0.090799         B         B        74   \n",
       "1454           17       2014   0.007122         B         B         1   \n",
       "8849            2       1994   0.161532         B         B        25   \n",
       "13398          17       1987   0.093443         B         B        23   \n",
       "\n",
       "       Social_2  Social_3  Healthcare_1  Helthcare_2  Shops_1 Shops_2  \n",
       "377       19083         2           NaN            5       15       B  \n",
       "1454        264         0           NaN            0        1       B  \n",
       "8849       5648         1          30.0            2        4       B  \n",
       "13398      4635         5        3300.0            2        4       B  "
      ]
     },
     "execution_count": 18,
     "metadata": {},
     "output_type": "execute_result"
    }
   ],
   "source": [
    "all_data.loc[all_data['Rooms'] > 6]"
   ]
  },
  {
   "cell_type": "code",
   "execution_count": 19,
   "metadata": {},
   "outputs": [
    {
     "data": {
      "text/html": [
       "<div>\n",
       "<style scoped>\n",
       "    .dataframe tbody tr th:only-of-type {\n",
       "        vertical-align: middle;\n",
       "    }\n",
       "\n",
       "    .dataframe tbody tr th {\n",
       "        vertical-align: top;\n",
       "    }\n",
       "\n",
       "    .dataframe thead th {\n",
       "        text-align: right;\n",
       "    }\n",
       "</style>\n",
       "<table border=\"1\" class=\"dataframe\">\n",
       "  <thead>\n",
       "    <tr style=\"text-align: right;\">\n",
       "      <th></th>\n",
       "      <th>Id</th>\n",
       "      <th>DistrictId</th>\n",
       "      <th>Rooms</th>\n",
       "      <th>Square</th>\n",
       "      <th>LifeSquare</th>\n",
       "      <th>KitchenSquare</th>\n",
       "      <th>Floor</th>\n",
       "      <th>HouseFloor</th>\n",
       "      <th>HouseYear</th>\n",
       "      <th>Ecology_1</th>\n",
       "      <th>Ecology_2</th>\n",
       "      <th>Ecology_3</th>\n",
       "      <th>Social_1</th>\n",
       "      <th>Social_2</th>\n",
       "      <th>Social_3</th>\n",
       "      <th>Healthcare_1</th>\n",
       "      <th>Helthcare_2</th>\n",
       "      <th>Shops_1</th>\n",
       "      <th>Shops_2</th>\n",
       "    </tr>\n",
       "  </thead>\n",
       "  <tbody>\n",
       "    <tr>\n",
       "      <th>1397</th>\n",
       "      <td>12638</td>\n",
       "      <td>27</td>\n",
       "      <td>0</td>\n",
       "      <td>138.427689</td>\n",
       "      <td>136.215500</td>\n",
       "      <td>0.0</td>\n",
       "      <td>4</td>\n",
       "      <td>3</td>\n",
       "      <td>2016</td>\n",
       "      <td>0.075424</td>\n",
       "      <td>B</td>\n",
       "      <td>B</td>\n",
       "      <td>11</td>\n",
       "      <td>3097</td>\n",
       "      <td>0</td>\n",
       "      <td>NaN</td>\n",
       "      <td>0</td>\n",
       "      <td>0</td>\n",
       "      <td>B</td>\n",
       "    </tr>\n",
       "    <tr>\n",
       "      <th>1981</th>\n",
       "      <td>7917</td>\n",
       "      <td>27</td>\n",
       "      <td>0</td>\n",
       "      <td>212.932358</td>\n",
       "      <td>211.231125</td>\n",
       "      <td>0.0</td>\n",
       "      <td>2</td>\n",
       "      <td>3</td>\n",
       "      <td>2008</td>\n",
       "      <td>0.211401</td>\n",
       "      <td>B</td>\n",
       "      <td>B</td>\n",
       "      <td>9</td>\n",
       "      <td>1892</td>\n",
       "      <td>0</td>\n",
       "      <td>NaN</td>\n",
       "      <td>0</td>\n",
       "      <td>1</td>\n",
       "      <td>B</td>\n",
       "    </tr>\n",
       "    <tr>\n",
       "      <th>2269</th>\n",
       "      <td>7317</td>\n",
       "      <td>27</td>\n",
       "      <td>0</td>\n",
       "      <td>41.790882</td>\n",
       "      <td>NaN</td>\n",
       "      <td>0.0</td>\n",
       "      <td>13</td>\n",
       "      <td>0</td>\n",
       "      <td>1977</td>\n",
       "      <td>0.211401</td>\n",
       "      <td>B</td>\n",
       "      <td>B</td>\n",
       "      <td>9</td>\n",
       "      <td>1892</td>\n",
       "      <td>0</td>\n",
       "      <td>NaN</td>\n",
       "      <td>0</td>\n",
       "      <td>1</td>\n",
       "      <td>B</td>\n",
       "    </tr>\n",
       "    <tr>\n",
       "      <th>3911</th>\n",
       "      <td>770</td>\n",
       "      <td>28</td>\n",
       "      <td>0</td>\n",
       "      <td>49.483501</td>\n",
       "      <td>NaN</td>\n",
       "      <td>0.0</td>\n",
       "      <td>16</td>\n",
       "      <td>0</td>\n",
       "      <td>2015</td>\n",
       "      <td>0.118537</td>\n",
       "      <td>B</td>\n",
       "      <td>B</td>\n",
       "      <td>30</td>\n",
       "      <td>6207</td>\n",
       "      <td>1</td>\n",
       "      <td>1183.0</td>\n",
       "      <td>1</td>\n",
       "      <td>0</td>\n",
       "      <td>B</td>\n",
       "    </tr>\n",
       "    <tr>\n",
       "      <th>4366</th>\n",
       "      <td>456</td>\n",
       "      <td>6</td>\n",
       "      <td>0</td>\n",
       "      <td>81.491447</td>\n",
       "      <td>NaN</td>\n",
       "      <td>0.0</td>\n",
       "      <td>4</td>\n",
       "      <td>0</td>\n",
       "      <td>1977</td>\n",
       "      <td>0.243205</td>\n",
       "      <td>B</td>\n",
       "      <td>B</td>\n",
       "      <td>5</td>\n",
       "      <td>1564</td>\n",
       "      <td>0</td>\n",
       "      <td>540.0</td>\n",
       "      <td>0</td>\n",
       "      <td>0</td>\n",
       "      <td>B</td>\n",
       "    </tr>\n",
       "    <tr>\n",
       "      <th>4853</th>\n",
       "      <td>3224</td>\n",
       "      <td>27</td>\n",
       "      <td>0</td>\n",
       "      <td>2.377248</td>\n",
       "      <td>0.873147</td>\n",
       "      <td>0.0</td>\n",
       "      <td>1</td>\n",
       "      <td>0</td>\n",
       "      <td>1977</td>\n",
       "      <td>0.017647</td>\n",
       "      <td>B</td>\n",
       "      <td>B</td>\n",
       "      <td>2</td>\n",
       "      <td>469</td>\n",
       "      <td>0</td>\n",
       "      <td>NaN</td>\n",
       "      <td>0</td>\n",
       "      <td>0</td>\n",
       "      <td>B</td>\n",
       "    </tr>\n",
       "    <tr>\n",
       "      <th>6149</th>\n",
       "      <td>3159</td>\n",
       "      <td>88</td>\n",
       "      <td>0</td>\n",
       "      <td>38.697117</td>\n",
       "      <td>19.345131</td>\n",
       "      <td>9.0</td>\n",
       "      <td>9</td>\n",
       "      <td>16</td>\n",
       "      <td>1982</td>\n",
       "      <td>0.127376</td>\n",
       "      <td>B</td>\n",
       "      <td>B</td>\n",
       "      <td>43</td>\n",
       "      <td>8429</td>\n",
       "      <td>3</td>\n",
       "      <td>NaN</td>\n",
       "      <td>3</td>\n",
       "      <td>9</td>\n",
       "      <td>B</td>\n",
       "    </tr>\n",
       "    <tr>\n",
       "      <th>8834</th>\n",
       "      <td>9443</td>\n",
       "      <td>27</td>\n",
       "      <td>0</td>\n",
       "      <td>87.762619</td>\n",
       "      <td>85.125473</td>\n",
       "      <td>0.0</td>\n",
       "      <td>5</td>\n",
       "      <td>15</td>\n",
       "      <td>1977</td>\n",
       "      <td>0.211401</td>\n",
       "      <td>B</td>\n",
       "      <td>B</td>\n",
       "      <td>9</td>\n",
       "      <td>1892</td>\n",
       "      <td>0</td>\n",
       "      <td>NaN</td>\n",
       "      <td>0</td>\n",
       "      <td>1</td>\n",
       "      <td>B</td>\n",
       "    </tr>\n",
       "    <tr>\n",
       "      <th>12406</th>\n",
       "      <td>3343</td>\n",
       "      <td>58</td>\n",
       "      <td>0</td>\n",
       "      <td>116.824203</td>\n",
       "      <td>113.692421</td>\n",
       "      <td>0.0</td>\n",
       "      <td>3</td>\n",
       "      <td>3</td>\n",
       "      <td>1977</td>\n",
       "      <td>0.437885</td>\n",
       "      <td>B</td>\n",
       "      <td>B</td>\n",
       "      <td>23</td>\n",
       "      <td>5735</td>\n",
       "      <td>3</td>\n",
       "      <td>1084.0</td>\n",
       "      <td>0</td>\n",
       "      <td>5</td>\n",
       "      <td>B</td>\n",
       "    </tr>\n",
       "    <tr>\n",
       "      <th>12524</th>\n",
       "      <td>10729</td>\n",
       "      <td>27</td>\n",
       "      <td>0</td>\n",
       "      <td>76.345154</td>\n",
       "      <td>42.820797</td>\n",
       "      <td>12.0</td>\n",
       "      <td>14</td>\n",
       "      <td>0</td>\n",
       "      <td>1977</td>\n",
       "      <td>0.017647</td>\n",
       "      <td>B</td>\n",
       "      <td>B</td>\n",
       "      <td>2</td>\n",
       "      <td>469</td>\n",
       "      <td>0</td>\n",
       "      <td>NaN</td>\n",
       "      <td>0</td>\n",
       "      <td>0</td>\n",
       "      <td>B</td>\n",
       "    </tr>\n",
       "  </tbody>\n",
       "</table>\n",
       "</div>"
      ],
      "text/plain": [
       "          Id  DistrictId  Rooms      Square  LifeSquare  KitchenSquare  Floor  \\\n",
       "1397   12638          27      0  138.427689  136.215500            0.0      4   \n",
       "1981    7917          27      0  212.932358  211.231125            0.0      2   \n",
       "2269    7317          27      0   41.790882         NaN            0.0     13   \n",
       "3911     770          28      0   49.483501         NaN            0.0     16   \n",
       "4366     456           6      0   81.491447         NaN            0.0      4   \n",
       "4853    3224          27      0    2.377248    0.873147            0.0      1   \n",
       "6149    3159          88      0   38.697117   19.345131            9.0      9   \n",
       "8834    9443          27      0   87.762619   85.125473            0.0      5   \n",
       "12406   3343          58      0  116.824203  113.692421            0.0      3   \n",
       "12524  10729          27      0   76.345154   42.820797           12.0     14   \n",
       "\n",
       "       HouseFloor  HouseYear  Ecology_1 Ecology_2 Ecology_3  Social_1  \\\n",
       "1397            3       2016   0.075424         B         B        11   \n",
       "1981            3       2008   0.211401         B         B         9   \n",
       "2269            0       1977   0.211401         B         B         9   \n",
       "3911            0       2015   0.118537         B         B        30   \n",
       "4366            0       1977   0.243205         B         B         5   \n",
       "4853            0       1977   0.017647         B         B         2   \n",
       "6149           16       1982   0.127376         B         B        43   \n",
       "8834           15       1977   0.211401         B         B         9   \n",
       "12406           3       1977   0.437885         B         B        23   \n",
       "12524           0       1977   0.017647         B         B         2   \n",
       "\n",
       "       Social_2  Social_3  Healthcare_1  Helthcare_2  Shops_1 Shops_2  \n",
       "1397       3097         0           NaN            0        0       B  \n",
       "1981       1892         0           NaN            0        1       B  \n",
       "2269       1892         0           NaN            0        1       B  \n",
       "3911       6207         1        1183.0            1        0       B  \n",
       "4366       1564         0         540.0            0        0       B  \n",
       "4853        469         0           NaN            0        0       B  \n",
       "6149       8429         3           NaN            3        9       B  \n",
       "8834       1892         0           NaN            0        1       B  \n",
       "12406      5735         3        1084.0            0        5       B  \n",
       "12524       469         0           NaN            0        0       B  "
      ]
     },
     "execution_count": 19,
     "metadata": {},
     "output_type": "execute_result"
    }
   ],
   "source": [
    "\n",
    "all_data.loc[all_data['Rooms'] == 0]"
   ]
  },
  {
   "cell_type": "code",
   "execution_count": 20,
   "metadata": {},
   "outputs": [],
   "source": [
    "def df_fix_room(df):\n",
    "    info_by_district_id = df.groupby(['DistrictId', 'HouseYear'], as_index=False).agg(\n",
    "        {'Rooms': 'sum', 'Square': 'sum'}).rename(\n",
    "        columns={'Rooms': 'sum_roos_dr', 'Square': 'sum_square_dr'})\n",
    "\n",
    "    info_by_district_id['mean_square_per_room_in_dr'] = info_by_district_id['sum_square_dr'] \\\n",
    "        / info_by_district_id['sum_roos_dr']\n",
    "    info_by_district_id.drop(\n",
    "        ['sum_square_dr', 'sum_roos_dr'], axis=1, inplace=True)\n",
    "\n",
    "    df = pd.merge(df, info_by_district_id, on=[\n",
    "                  'DistrictId', 'HouseYear'], how='left')\n",
    "\n",
    "    df['mean_square_per_room_in_dr'] = df['mean_square_per_room_in_dr'].fillna(\n",
    "        df['mean_square_per_room_in_dr'].mean())\n",
    "\n",
    "    df.loc[df['Rooms'] > 6, 'Rooms'] \\\n",
    "        = (df.loc[df['Rooms'] > 6, 'Square']\n",
    "           // df.loc[df['Rooms'] > 6, 'mean_square_per_room_in_dr']).astype('int')\n",
    "\n",
    "    df.loc[df['Rooms'] == 0, 'Rooms'] \\\n",
    "        = (df.loc[df['Rooms'] == 0, 'Square']\n",
    "           // df.loc[df['Rooms'] == 0, 'mean_square_per_room_in_dr']).astype('int')\n",
    "\n",
    "    df.loc[df['Rooms'] == 0, 'Rooms'] = 1\n",
    "    return df"
   ]
  },
  {
   "cell_type": "markdown",
   "metadata": {},
   "source": [
    "Fix Square"
   ]
  },
  {
   "cell_type": "code",
   "execution_count": 21,
   "metadata": {},
   "outputs": [
    {
     "data": {
      "text/html": [
       "<div>\n",
       "<style scoped>\n",
       "    .dataframe tbody tr th:only-of-type {\n",
       "        vertical-align: middle;\n",
       "    }\n",
       "\n",
       "    .dataframe tbody tr th {\n",
       "        vertical-align: top;\n",
       "    }\n",
       "\n",
       "    .dataframe thead th {\n",
       "        text-align: right;\n",
       "    }\n",
       "</style>\n",
       "<table border=\"1\" class=\"dataframe\">\n",
       "  <thead>\n",
       "    <tr style=\"text-align: right;\">\n",
       "      <th></th>\n",
       "      <th>Id</th>\n",
       "      <th>DistrictId</th>\n",
       "      <th>Rooms</th>\n",
       "      <th>Square</th>\n",
       "      <th>LifeSquare</th>\n",
       "      <th>KitchenSquare</th>\n",
       "      <th>Floor</th>\n",
       "      <th>HouseFloor</th>\n",
       "      <th>HouseYear</th>\n",
       "      <th>Ecology_1</th>\n",
       "      <th>Ecology_2</th>\n",
       "      <th>Ecology_3</th>\n",
       "      <th>Social_1</th>\n",
       "      <th>Social_2</th>\n",
       "      <th>Social_3</th>\n",
       "      <th>Healthcare_1</th>\n",
       "      <th>Helthcare_2</th>\n",
       "      <th>Shops_1</th>\n",
       "      <th>Shops_2</th>\n",
       "    </tr>\n",
       "  </thead>\n",
       "  <tbody>\n",
       "    <tr>\n",
       "      <th>6977</th>\n",
       "      <td>11602</td>\n",
       "      <td>30</td>\n",
       "      <td>2</td>\n",
       "      <td>641.065186</td>\n",
       "      <td>638.163208</td>\n",
       "      <td>10.0</td>\n",
       "      <td>20</td>\n",
       "      <td>19</td>\n",
       "      <td>2019</td>\n",
       "      <td>0.000078</td>\n",
       "      <td>B</td>\n",
       "      <td>B</td>\n",
       "      <td>22</td>\n",
       "      <td>6398</td>\n",
       "      <td>141</td>\n",
       "      <td>1046.0</td>\n",
       "      <td>3</td>\n",
       "      <td>23</td>\n",
       "      <td>B</td>\n",
       "    </tr>\n",
       "    <tr>\n",
       "      <th>4262</th>\n",
       "      <td>28</td>\n",
       "      <td>9</td>\n",
       "      <td>2</td>\n",
       "      <td>604.705994</td>\n",
       "      <td>NaN</td>\n",
       "      <td>1.0</td>\n",
       "      <td>17</td>\n",
       "      <td>18</td>\n",
       "      <td>1977</td>\n",
       "      <td>0.161532</td>\n",
       "      <td>B</td>\n",
       "      <td>B</td>\n",
       "      <td>25</td>\n",
       "      <td>5648</td>\n",
       "      <td>1</td>\n",
       "      <td>30.0</td>\n",
       "      <td>2</td>\n",
       "      <td>4</td>\n",
       "      <td>B</td>\n",
       "    </tr>\n",
       "    <tr>\n",
       "      <th>4690</th>\n",
       "      <td>2307</td>\n",
       "      <td>102</td>\n",
       "      <td>1</td>\n",
       "      <td>409.425171</td>\n",
       "      <td>410.639740</td>\n",
       "      <td>10.0</td>\n",
       "      <td>4</td>\n",
       "      <td>4</td>\n",
       "      <td>2016</td>\n",
       "      <td>0.238617</td>\n",
       "      <td>B</td>\n",
       "      <td>B</td>\n",
       "      <td>26</td>\n",
       "      <td>3889</td>\n",
       "      <td>6</td>\n",
       "      <td>705.0</td>\n",
       "      <td>3</td>\n",
       "      <td>6</td>\n",
       "      <td>B</td>\n",
       "    </tr>\n",
       "    <tr>\n",
       "      <th>1982</th>\n",
       "      <td>5548</td>\n",
       "      <td>86</td>\n",
       "      <td>5</td>\n",
       "      <td>275.645294</td>\n",
       "      <td>233.949310</td>\n",
       "      <td>26.0</td>\n",
       "      <td>12</td>\n",
       "      <td>37</td>\n",
       "      <td>2011</td>\n",
       "      <td>0.161976</td>\n",
       "      <td>B</td>\n",
       "      <td>A</td>\n",
       "      <td>31</td>\n",
       "      <td>7010</td>\n",
       "      <td>5</td>\n",
       "      <td>4508.0</td>\n",
       "      <td>3</td>\n",
       "      <td>7</td>\n",
       "      <td>B</td>\n",
       "    </tr>\n",
       "    <tr>\n",
       "      <th>13217</th>\n",
       "      <td>4058</td>\n",
       "      <td>27</td>\n",
       "      <td>6</td>\n",
       "      <td>223.453690</td>\n",
       "      <td>104.113556</td>\n",
       "      <td>16.0</td>\n",
       "      <td>2</td>\n",
       "      <td>2</td>\n",
       "      <td>2017</td>\n",
       "      <td>0.041116</td>\n",
       "      <td>B</td>\n",
       "      <td>B</td>\n",
       "      <td>53</td>\n",
       "      <td>14892</td>\n",
       "      <td>4</td>\n",
       "      <td>NaN</td>\n",
       "      <td>1</td>\n",
       "      <td>4</td>\n",
       "      <td>B</td>\n",
       "    </tr>\n",
       "    <tr>\n",
       "      <th>13909</th>\n",
       "      <td>1397</td>\n",
       "      <td>76</td>\n",
       "      <td>3</td>\n",
       "      <td>221.138763</td>\n",
       "      <td>118.055344</td>\n",
       "      <td>4.0</td>\n",
       "      <td>32</td>\n",
       "      <td>48</td>\n",
       "      <td>2011</td>\n",
       "      <td>0.000000</td>\n",
       "      <td>B</td>\n",
       "      <td>B</td>\n",
       "      <td>7</td>\n",
       "      <td>1660</td>\n",
       "      <td>39</td>\n",
       "      <td>1786.0</td>\n",
       "      <td>1</td>\n",
       "      <td>5</td>\n",
       "      <td>B</td>\n",
       "    </tr>\n",
       "    <tr>\n",
       "      <th>1981</th>\n",
       "      <td>7917</td>\n",
       "      <td>27</td>\n",
       "      <td>0</td>\n",
       "      <td>212.932358</td>\n",
       "      <td>211.231125</td>\n",
       "      <td>0.0</td>\n",
       "      <td>2</td>\n",
       "      <td>3</td>\n",
       "      <td>2008</td>\n",
       "      <td>0.211401</td>\n",
       "      <td>B</td>\n",
       "      <td>B</td>\n",
       "      <td>9</td>\n",
       "      <td>1892</td>\n",
       "      <td>0</td>\n",
       "      <td>NaN</td>\n",
       "      <td>0</td>\n",
       "      <td>1</td>\n",
       "      <td>B</td>\n",
       "    </tr>\n",
       "    <tr>\n",
       "      <th>9910</th>\n",
       "      <td>16568</td>\n",
       "      <td>27</td>\n",
       "      <td>4</td>\n",
       "      <td>200.334534</td>\n",
       "      <td>201.627365</td>\n",
       "      <td>25.0</td>\n",
       "      <td>1</td>\n",
       "      <td>2</td>\n",
       "      <td>2013</td>\n",
       "      <td>0.041116</td>\n",
       "      <td>B</td>\n",
       "      <td>B</td>\n",
       "      <td>53</td>\n",
       "      <td>14892</td>\n",
       "      <td>4</td>\n",
       "      <td>NaN</td>\n",
       "      <td>1</td>\n",
       "      <td>4</td>\n",
       "      <td>B</td>\n",
       "    </tr>\n",
       "  </tbody>\n",
       "</table>\n",
       "</div>"
      ],
      "text/plain": [
       "          Id  DistrictId  Rooms      Square  LifeSquare  KitchenSquare  Floor  \\\n",
       "6977   11602          30      2  641.065186  638.163208           10.0     20   \n",
       "4262      28           9      2  604.705994         NaN            1.0     17   \n",
       "4690    2307         102      1  409.425171  410.639740           10.0      4   \n",
       "1982    5548          86      5  275.645294  233.949310           26.0     12   \n",
       "13217   4058          27      6  223.453690  104.113556           16.0      2   \n",
       "13909   1397          76      3  221.138763  118.055344            4.0     32   \n",
       "1981    7917          27      0  212.932358  211.231125            0.0      2   \n",
       "9910   16568          27      4  200.334534  201.627365           25.0      1   \n",
       "\n",
       "       HouseFloor  HouseYear  Ecology_1 Ecology_2 Ecology_3  Social_1  \\\n",
       "6977           19       2019   0.000078         B         B        22   \n",
       "4262           18       1977   0.161532         B         B        25   \n",
       "4690            4       2016   0.238617         B         B        26   \n",
       "1982           37       2011   0.161976         B         A        31   \n",
       "13217           2       2017   0.041116         B         B        53   \n",
       "13909          48       2011   0.000000         B         B         7   \n",
       "1981            3       2008   0.211401         B         B         9   \n",
       "9910            2       2013   0.041116         B         B        53   \n",
       "\n",
       "       Social_2  Social_3  Healthcare_1  Helthcare_2  Shops_1 Shops_2  \n",
       "6977       6398       141        1046.0            3       23       B  \n",
       "4262       5648         1          30.0            2        4       B  \n",
       "4690       3889         6         705.0            3        6       B  \n",
       "1982       7010         5        4508.0            3        7       B  \n",
       "13217     14892         4           NaN            1        4       B  \n",
       "13909      1660        39        1786.0            1        5       B  \n",
       "1981       1892         0           NaN            0        1       B  \n",
       "9910      14892         4           NaN            1        4       B  "
      ]
     },
     "execution_count": 21,
     "metadata": {},
     "output_type": "execute_result"
    }
   ],
   "source": [
    "\n",
    "all_data.loc[all_data['Square'] > 200].nlargest(20, 'Square')"
   ]
  },
  {
   "cell_type": "code",
   "execution_count": 22,
   "metadata": {},
   "outputs": [
    {
     "name": "stdout",
     "output_type": "stream",
     "text": [
      "mu = 56.36 and sigma = 20.42\n"
     ]
    },
    {
     "data": {
      "image/png": "[encoded data removed]",
      "text/plain": [
       "<Figure size 432x288 with 1 Axes>"
      ]
     },
     "metadata": {
      "needs_background": "light"
     },
     "output_type": "display_data"
    },
    {
     "data": {
      "image/png": "[encoded data removed]",
      "text/plain": [
       "<Figure size 432x288 with 1 Axes>"
      ]
     },
     "metadata": {
      "needs_background": "light"
     },
     "output_type": "display_data"
    }
   ],
   "source": [
    "sns.distplot(all_data['Square'], fit=norm)\n",
    "\n",
    "mu, sigma = norm.fit(all_data['Square'])\n",
    "\n",
    "print(f'mu = {mu:.2f} and sigma = {sigma:.2f}')\n",
    "\n",
    "plt.legend(\n",
    "    [f'Normal dist. ($\\mu=$ {mu:.2f} and $\\sigma=$ {sigma:.2f} )'])\n",
    "plt.ylabel('Frequency')\n",
    "plt.title('Square distribution')\n",
    "\n",
    "# QQ-plot\n",
    "fig = plt.figure()\n",
    "res = stats.probplot(all_data['Square'], plot=plt)\n",
    "plt.show()"
   ]
  },
  {
   "cell_type": "code",
   "execution_count": 23,
   "metadata": {},
   "outputs": [],
   "source": [
    "def df_fix_square_manual(df):\n",
    "    df.loc[df['Square'] > 400, 'Square'] = df.loc[df['Square'] > 400, 'Square'] / 10\n",
    "    return df"
   ]
  },
  {
   "cell_type": "code",
   "execution_count": 24,
   "metadata": {},
   "outputs": [],
   "source": [
    "def df_fix_square(df):\n",
    "    info_by_district_id = df.groupby(['DistrictId', 'Rooms', 'HouseYear'], as_index=False).agg(\n",
    "        {'Square': 'mean'}).rename(\n",
    "        columns={'Square': 'mean_square_rooms_dr'})\n",
    "\n",
    "    df = pd.merge(df, info_by_district_id, on=[\n",
    "        'DistrictId', 'Rooms', 'HouseYear'], how='left')\n",
    "\n",
    "    df.loc[abs(df['Square'] - df['mean_square_rooms_dr']) > 2 * sigma, 'Square'] \\\n",
    "        = df.loc[abs(df['Square'] - df['mean_square_rooms_dr']) > 2 * sigma, 'Rooms'] \\\n",
    "        * df.loc[abs(df['Square'] - df['mean_square_rooms_dr']) > 2 * sigma, 'mean_square_per_room_in_dr']\n",
    "    return df"
   ]
  },
  {
   "cell_type": "code",
   "execution_count": 25,
   "metadata": {},
   "outputs": [],
   "source": [
    "\n",
    "def prepare_lifesquare(df):\n",
    "    df.loc[df['Square'] < df['LifeSquare'],\n",
    "           'LifeSquare'] = df.loc[df['Square'] < df['LifeSquare'], 'Square']\n",
    "    return df\n",
    "\n",
    "\n",
    "def fillna_life_square(df):\n",
    "    df['LifeSquare'] = df['LifeSquare'].fillna(df['LifeSquare'].mean())\n",
    "    return df"
   ]
  },
  {
   "cell_type": "markdown",
   "metadata": {},
   "source": [
    "Fix HouseYear"
   ]
  },
  {
   "cell_type": "code",
   "execution_count": 28,
   "metadata": {},
   "outputs": [
    {
     "data": {
      "text/html": [
       "<div>\n",
       "<style scoped>\n",
       "    .dataframe tbody tr th:only-of-type {\n",
       "        vertical-align: middle;\n",
       "    }\n",
       "\n",
       "    .dataframe tbody tr th {\n",
       "        vertical-align: top;\n",
       "    }\n",
       "\n",
       "    .dataframe thead th {\n",
       "        text-align: right;\n",
       "    }\n",
       "</style>\n",
       "<table border=\"1\" class=\"dataframe\">\n",
       "  <thead>\n",
       "    <tr style=\"text-align: right;\">\n",
       "      <th></th>\n",
       "      <th>Id</th>\n",
       "      <th>DistrictId</th>\n",
       "      <th>Rooms</th>\n",
       "      <th>Square</th>\n",
       "      <th>LifeSquare</th>\n",
       "      <th>KitchenSquare</th>\n",
       "      <th>Floor</th>\n",
       "      <th>HouseFloor</th>\n",
       "      <th>HouseYear</th>\n",
       "      <th>Ecology_1</th>\n",
       "      <th>Ecology_2</th>\n",
       "      <th>Ecology_3</th>\n",
       "      <th>Social_1</th>\n",
       "      <th>Social_2</th>\n",
       "      <th>Social_3</th>\n",
       "      <th>Healthcare_1</th>\n",
       "      <th>Helthcare_2</th>\n",
       "      <th>Shops_1</th>\n",
       "      <th>Shops_2</th>\n",
       "    </tr>\n",
       "  </thead>\n",
       "  <tbody>\n",
       "    <tr>\n",
       "      <th>1497</th>\n",
       "      <td>10814</td>\n",
       "      <td>109</td>\n",
       "      <td>1</td>\n",
       "      <td>37.265072</td>\n",
       "      <td>20.239714</td>\n",
       "      <td>9.0</td>\n",
       "      <td>9</td>\n",
       "      <td>12</td>\n",
       "      <td>20052011</td>\n",
       "      <td>0.136330</td>\n",
       "      <td>B</td>\n",
       "      <td>B</td>\n",
       "      <td>30</td>\n",
       "      <td>6141</td>\n",
       "      <td>10</td>\n",
       "      <td>262.0</td>\n",
       "      <td>3</td>\n",
       "      <td>6</td>\n",
       "      <td>B</td>\n",
       "    </tr>\n",
       "    <tr>\n",
       "      <th>4189</th>\n",
       "      <td>11607</td>\n",
       "      <td>147</td>\n",
       "      <td>2</td>\n",
       "      <td>44.791836</td>\n",
       "      <td>28.360394</td>\n",
       "      <td>5.0</td>\n",
       "      <td>4</td>\n",
       "      <td>9</td>\n",
       "      <td>4968</td>\n",
       "      <td>0.319809</td>\n",
       "      <td>B</td>\n",
       "      <td>B</td>\n",
       "      <td>25</td>\n",
       "      <td>4756</td>\n",
       "      <td>16</td>\n",
       "      <td>2857.0</td>\n",
       "      <td>5</td>\n",
       "      <td>8</td>\n",
       "      <td>B</td>\n",
       "    </tr>\n",
       "  </tbody>\n",
       "</table>\n",
       "</div>"
      ],
      "text/plain": [
       "         Id  DistrictId  Rooms     Square  LifeSquare  KitchenSquare  Floor  \\\n",
       "1497  10814         109      1  37.265072   20.239714            9.0      9   \n",
       "4189  11607         147      2  44.791836   28.360394            5.0      4   \n",
       "\n",
       "      HouseFloor  HouseYear  Ecology_1 Ecology_2 Ecology_3  Social_1  \\\n",
       "1497          12   20052011   0.136330         B         B        30   \n",
       "4189           9       4968   0.319809         B         B        25   \n",
       "\n",
       "      Social_2  Social_3  Healthcare_1  Helthcare_2  Shops_1 Shops_2  \n",
       "1497      6141        10         262.0            3        6       B  \n",
       "4189      4756        16        2857.0            5        8       B  "
      ]
     },
     "execution_count": 28,
     "metadata": {},
     "output_type": "execute_result"
    }
   ],
   "source": [
    "all_data.loc[all_data['HouseYear'] > 2020]"
   ]
  },
  {
   "cell_type": "code",
   "execution_count": 29,
   "metadata": {},
   "outputs": [],
   "source": [
    "\n",
    "def df_fix_house_year_manual(df):\n",
    "    df.loc[df['HouseYear'] == 20052011, 'HouseYear'] = int((2005 + 2011) / 2)\n",
    "    df.loc[df['HouseYear'] == 4968, 'HouseYear'] = 1968\n",
    "    return df"
   ]
  },
  {
   "cell_type": "markdown",
   "metadata": {},
   "source": [
    "Data Processing\n",
    "Load packages"
   ]
  },
  {
   "cell_type": "code",
   "execution_count": 30,
   "metadata": {},
   "outputs": [],
   "source": [
    "import numpy as np\n",
    "\n",
    "from sklearn.preprocessing import MinMaxScaler\n",
    "from sklearn.cluster import KMeans\n",
    "from sklearn.cluster import AgglomerativeClustering"
   ]
  },
  {
   "cell_type": "markdown",
   "metadata": {},
   "source": [
    "Переменные"
   ]
  },
  {
   "cell_type": "code",
   "execution_count": 31,
   "metadata": {},
   "outputs": [
    {
     "name": "stdout",
     "output_type": "stream",
     "text": [
      "mu = 214138.86 and sigma = 92867.65\n"
     ]
    },
    {
     "data": {
      "image/png": "[encoded data removed]",
      "text/plain": [
       "<Figure size 432x288 with 1 Axes>"
      ]
     },
     "metadata": {
      "needs_background": "light"
     },
     "output_type": "display_data"
    },
    {
     "data": {
      "image/png": "[encoded data removed]",
      "text/plain": [
       "<Figure size 432x288 with 1 Axes>"
      ]
     },
     "metadata": {
      "needs_background": "light"
     },
     "output_type": "display_data"
    }
   ],
   "source": [
    "sns.distplot(train['Price'], fit=norm)\n",
    "\n",
    "mu, sigma = norm.fit(train['Price'])\n",
    "\n",
    "print(f'mu = {mu:.2f} and sigma = {sigma:.2f}')\n",
    "\n",
    "plt.legend(\n",
    "    [f'Normal dist. ($\\mu=$ {mu:.2f} and $\\sigma=$ {sigma:.2f} )'], loc='best')\n",
    "plt.ylabel('Frequency')\n",
    "plt.title('Price distribution')\n",
    "\n",
    "# QQ-plot\n",
    "fig = plt.figure()\n",
    "res = stats.probplot(train['Price'], plot=plt)\n",
    "plt.show()"
   ]
  },
  {
   "cell_type": "markdown",
   "metadata": {},
   "source": [
    "Распределение журнала целевой переменной"
   ]
  },
  {
   "cell_type": "code",
   "execution_count": 32,
   "metadata": {},
   "outputs": [
    {
     "name": "stdout",
     "output_type": "stream",
     "text": [
      "mu = 214138.86 and sigma = 92867.65\n"
     ]
    },
    {
     "data": {
      "image/png": "[encoded data removed]",
      "text/plain": [
       "<Figure size 432x288 with 1 Axes>"
      ]
     },
     "metadata": {
      "needs_background": "light"
     },
     "output_type": "display_data"
    },
    {
     "data": {
      "image/png": "[encoded data removed]",
      "text/plain": [
       "<Figure size 432x288 with 1 Axes>"
      ]
     },
     "metadata": {
      "needs_background": "light"
     },
     "output_type": "display_data"
    }
   ],
   "source": [
    "price_log = np.log1p(train['Price'])\n",
    "sns.distplot(price_log, fit=norm)\n",
    "\n",
    "mu, sigma = norm.fit(train['Price'])\n",
    "\n",
    "print(f'mu = {mu:.2f} and sigma = {sigma:.2f}')\n",
    "\n",
    "plt.legend(\n",
    "    [f'Normal dist. ($\\mu=$ {mu:.2f} and $\\sigma=$ {sigma:.2f} )'], loc='best')\n",
    "plt.ylabel('Frequency')\n",
    "plt.title('Price distribution')\n",
    "\n",
    "# QQ-plot\n",
    "fig = plt.figure()\n",
    "res = stats.probplot(price_log, plot=plt)\n",
    "plt.show()"
   ]
  },
  {
   "cell_type": "markdown",
   "metadata": {},
   "source": [
    "Distribution of variable House Year"
   ]
  },
  {
   "cell_type": "code",
   "execution_count": 35,
   "metadata": {},
   "outputs": [
    {
     "data": {
      "text/plain": [
       "Text(0.5, 1.0, 'Distribution of variable House Year')"
      ]
     },
     "execution_count": 35,
     "metadata": {},
     "output_type": "execute_result"
    },
    {
     "data": {
      "image/png": "[encoded data removed]",
      "text/plain": [
       "<Figure size 1296x432 with 1 Axes>"
      ]
     },
     "metadata": {
      "needs_background": "light"
     },
     "output_type": "display_data"
    }
   ],
   "source": [
    "plt.figure(figsize=(18, 6))\n",
    "sns.barplot(train['HouseYear'], train['Price'])\n",
    "plt.xticks(rotation=90)\n",
    "plt.title('Distribution of variable House Year')"
   ]
  },
  {
   "cell_type": "markdown",
   "metadata": {},
   "source": [
    "Distribution of variable District Id"
   ]
  },
  {
   "cell_type": "code",
   "execution_count": 36,
   "metadata": {},
   "outputs": [
    {
     "data": {
      "text/plain": [
       "Text(0.5, 1.0, 'Distribution of variable District Id')"
      ]
     },
     "execution_count": 36,
     "metadata": {},
     "output_type": "execute_result"
    },
    {
     "data": {
      "image/png": "[encoded data removed]",
      "text/plain": [
       "<Figure size 1296x432 with 1 Axes>"
      ]
     },
     "metadata": {
      "needs_background": "light"
     },
     "output_type": "display_data"
    }
   ],
   "source": [
    "plt.figure(figsize=(18, 6))\n",
    "sns.barplot(train['DistrictId'], train['Price'])\n",
    "plt.xticks(rotation=90)\n",
    "plt.title('Distribution of variable District Id')"
   ]
  },
  {
   "cell_type": "markdown",
   "metadata": {},
   "source": [
    "\n",
    "Features engineering¶\n",
    "Missing Data"
   ]
  },
  {
   "cell_type": "code",
   "execution_count": 37,
   "metadata": {},
   "outputs": [
    {
     "name": "stdout",
     "output_type": "stream",
     "text": [
      "all_data size is : (15000, 19)\n"
     ]
    }
   ],
   "source": [
    "all_data = pd.concat((train, test), sort=False).reset_index(drop=True)\n",
    "all_data.drop(['Price'], axis=1, inplace=True)\n",
    "print(f'all_data size is : {all_data.shape}')"
   ]
  },
  {
   "cell_type": "code",
   "execution_count": 38,
   "metadata": {},
   "outputs": [
    {
     "data": {
      "text/html": [
       "<div>\n",
       "<style scoped>\n",
       "    .dataframe tbody tr th:only-of-type {\n",
       "        vertical-align: middle;\n",
       "    }\n",
       "\n",
       "    .dataframe tbody tr th {\n",
       "        vertical-align: top;\n",
       "    }\n",
       "\n",
       "    .dataframe thead th {\n",
       "        text-align: right;\n",
       "    }\n",
       "</style>\n",
       "<table border=\"1\" class=\"dataframe\">\n",
       "  <thead>\n",
       "    <tr style=\"text-align: right;\">\n",
       "      <th></th>\n",
       "      <th>Missing Ratio</th>\n",
       "    </tr>\n",
       "  </thead>\n",
       "  <tbody>\n",
       "    <tr>\n",
       "      <th>Healthcare_1</th>\n",
       "      <td>47.833333</td>\n",
       "    </tr>\n",
       "    <tr>\n",
       "      <th>LifeSquare</th>\n",
       "      <td>21.026667</td>\n",
       "    </tr>\n",
       "  </tbody>\n",
       "</table>\n",
       "</div>"
      ],
      "text/plain": [
       "              Missing Ratio\n",
       "Healthcare_1      47.833333\n",
       "LifeSquare        21.026667"
      ]
     },
     "execution_count": 38,
     "metadata": {},
     "output_type": "execute_result"
    }
   ],
   "source": [
    "all_data_na = (all_data.isnull().sum() / len(all_data)) * 100\n",
    "all_data_na = all_data_na.drop(\n",
    "    all_data_na[all_data_na == 0].index).sort_values(ascending=False)\n",
    "missing_data = pd.DataFrame({'Missing Ratio': all_data_na})\n",
    "missing_data"
   ]
  },
  {
   "cell_type": "markdown",
   "metadata": {},
   "source": [
    "def df_del_missing(df):\n",
    "    df_na = (df.isnull().sum() / len(df)) * 100\n",
    "\n",
    "    df_na = df_na.drop(\n",
    "        df_na[df_na == 0].index).sort_values(ascending=False)\n",
    "    df_na = list(df_na.index)\n",
    "    df.drop(df_na, axis=1, inplace=True)\n",
    "    return df"
   ]
  },
  {
   "cell_type": "code",
   "execution_count": 39,
   "metadata": {},
   "outputs": [
    {
     "ename": "SyntaxError",
     "evalue": "invalid syntax (<ipython-input-39-ac9c40edacd9>, line 1)",
     "output_type": "error",
     "traceback": [
      "\u001b[0;36m  File \u001b[0;32m\"<ipython-input-39-ac9c40edacd9>\"\u001b[0;36m, line \u001b[0;32m1\u001b[0m\n\u001b[0;31m    Data Correlation\u001b[0m\n\u001b[0m                   ^\u001b[0m\n\u001b[0;31mSyntaxError\u001b[0m\u001b[0;31m:\u001b[0m invalid syntax\n"
     ]
    }
   ],
   "source": [
    "\n",
    "Data Correlation"
   ]
  },
  {
   "cell_type": "code",
   "execution_count": null,
   "metadata": {},
   "outputs": [],
   "source": [
    "corrmat = train.loc[:, train.columns != 'Id'].corr()\n",
    "plt.subplots(figsize=(12, 9))\n",
    "sns.heatmap(corrmat, vmax=0.9, square=True)"
   ]
  },
  {
   "cell_type": "code",
   "execution_count": null,
   "metadata": {},
   "outputs": [],
   "source": [
    "corrmat = train.loc[:, train.columns != 'Id'].corrwith(\n",
    "    train['Price']).abs().sort_values(ascending=False)[1:]\n",
    "plt.bar(corrmat.index, corrmat.values)\n",
    "plt.title('Correlation to Price')\n",
    "plt.xticks(rotation='vertical')\n",
    "plt.show()"
   ]
  },
  {
   "cell_type": "code",
   "execution_count": null,
   "metadata": {},
   "outputs": [],
   "source": [
    "train.head()"
   ]
  },
  {
   "cell_type": "markdown",
   "metadata": {},
   "source": [
    "Cluster"
   ]
  },
  {
   "cell_type": "code",
   "execution_count": null,
   "metadata": {},
   "outputs": [],
   "source": [
    "scaler = MinMaxScaler()"
   ]
  },
  {
   "cell_type": "code",
   "execution_count": null,
   "metadata": {},
   "outputs": [],
   "source": [
    "train_cluster = train.copy()"
   ]
  },
  {
   "cell_type": "code",
   "execution_count": null,
   "metadata": {},
   "outputs": [],
   "source": [
    "train_cluster = df_fix_house_year_manual(train_cluster)"
   ]
  },
  {
   "cell_type": "code",
   "execution_count": null,
   "metadata": {},
   "outputs": [],
   "source": [
    "train_cluster_scaled = pd.DataFrame(scaler.fit_transform(\n",
    "    train_cluster.loc[:, ['HouseYear', 'Price']]), columns=['HouseYear', 'Price'])"
   ]
  },
  {
   "cell_type": "code",
   "execution_count": null,
   "metadata": {},
   "outputs": [],
   "source": [
    "\n",
    "inertias = []\n",
    "\n",
    "for i in range(2, 10):\n",
    "    temp_model = KMeans(n_clusters=i, random_state=100)\n",
    "    temp_model.fit(train_cluster_scaled)\n",
    "    temp_inertia = temp_model.inertia_\n",
    "    inertias.append(temp_inertia)\n",
    "\n",
    "plt.plot(range(2, 10), inertias)\n",
    "plt.title('Inertia')\n",
    "\n",
    "plt.show()"
   ]
  },
  {
   "cell_type": "code",
   "execution_count": null,
   "metadata": {},
   "outputs": [],
   "source": [
    "plt.scatter(train_cluster_scaled['HouseYear'], train_cluster_scaled['Price'])\n",
    "plt.xlabel('HouseYear')\n",
    "plt.ylabel('Price')\n",
    "plt.show()"
   ]
  },
  {
   "cell_type": "code",
   "execution_count": null,
   "metadata": {},
   "outputs": [],
   "source": [
    "kmeans_model = KMeans(n_clusters=5, random_state=100)"
   ]
  },
  {
   "cell_type": "code",
   "execution_count": null,
   "metadata": {},
   "outputs": [],
   "source": [
    "train_labels = kmeans_model.fit_predict(train_cluster_scaled)"
   ]
  },
  {
   "cell_type": "code",
   "execution_count": null,
   "metadata": {},
   "outputs": [],
   "source": [
    "plt.scatter(train_cluster_scaled['HouseYear'],\n",
    "            train_cluster_scaled['Price'], c=train_labels)\n",
    "\n",
    "plt.xlabel('HouseYear')\n",
    "plt.ylabel('Price')\n",
    "\n",
    "plt.title('Train data')"
   ]
  },
  {
   "cell_type": "code",
   "execution_count": null,
   "metadata": {},
   "outputs": [],
   "source": [
    "agglomerative_clustering_model = AgglomerativeClustering(n_clusters=5)"
   ]
  },
  {
   "cell_type": "code",
   "execution_count": null,
   "metadata": {},
   "outputs": [],
   "source": [
    "train_cluster['cluster_year'] = agglomerative_clustering_model.fit_predict(\n",
    "    train_cluster_scaled)"
   ]
  },
  {
   "cell_type": "code",
   "execution_count": null,
   "metadata": {},
   "outputs": [],
   "source": [
    "\n",
    "plt.scatter(train_cluster['HouseYear'],\n",
    "            train_cluster['Price'], c=train_cluster['cluster_year'])\n",
    "plt.xlabel('HouseYear')\n",
    "plt.ylabel('Price')\n",
    "plt.title('Train')"
   ]
  },
  {
   "cell_type": "code",
   "execution_count": null,
   "metadata": {},
   "outputs": [],
   "source": [
    "def add_cluster_year(df):\n",
    "    df_scaled = pd.DataFrame(scaler.fit_transform(\n",
    "        df.loc[:, ['HouseYear']]), columns=['HouseYear'])\n",
    "    df['cluster_year'] = agglomerative_clustering_model.fit_predict(df_scaled)\n",
    "    return df"
   ]
  },
  {
   "cell_type": "markdown",
   "metadata": {},
   "source": [
    "Mean price by Rooms and Mean price by DistrictId and Rooms"
   ]
  },
  {
   "cell_type": "code",
   "execution_count": null,
   "metadata": {},
   "outputs": [],
   "source": [
    "def add_mean_price(df, df_train=train):\n",
    "    price = df_train['Price'].mean()\n",
    "    price_mean_by_rooms = df_train.groupby(['Rooms'], as_index=False).agg({'Price': 'mean'}).\\\n",
    "        rename(columns={'Price': 'mean_price_by_rooms'})\n",
    "\n",
    "    price_mean_by_distr_rooms = df_train.groupby(['DistrictId', 'Rooms'], as_index=False).agg({'Price': 'mean'}).\\\n",
    "        rename(columns={'Price': 'mean_price_dr'})\n",
    "\n",
    "    df = pd.merge(df, price_mean_by_distr_rooms, on=[\n",
    "                  'DistrictId', 'Rooms'], how='left')\n",
    "    df = pd.merge(df, price_mean_by_rooms, on='Rooms', how='left')\n",
    "    df['mean_price_dr'] = df['mean_price_dr'].fillna(df['mean_price_by_rooms'])\n",
    "    df['mean_price_dr'] = df['mean_price_dr'].fillna(price)\n",
    "    df['mean_price_by_rooms'] = df['mean_price_by_rooms'].fillna(price)\n",
    "    return df"
   ]
  },
  {
   "cell_type": "markdown",
   "metadata": {},
   "source": [
    "Large distric"
   ]
  },
  {
   "cell_type": "code",
   "execution_count": null,
   "metadata": {},
   "outputs": [],
   "source": [
    "\n",
    "def add_distr_info(df):\n",
    "    distr_info = df['DistrictId'].value_counts().reset_index().\\\n",
    "        rename(columns={\"index\": \"DistrictId\", \"DistrictId\": 'large_district'})\n",
    "    df = pd.merge(df, distr_info, on='DistrictId', how='left')\n",
    "    df['large_district'] = df['large_district'].fillna(1)\n",
    "    return df"
   ]
  },
  {
   "cell_type": "markdown",
   "metadata": {},
   "source": [
    "Modelling\n",
    "Function"
   ]
  },
  {
   "cell_type": "code",
   "execution_count": null,
   "metadata": {},
   "outputs": [],
   "source": [
    "\n",
    "def data_prepare(df, df_train=train):\n",
    "    df = df_fix_square_manual(df)\n",
    "    df = df_fix_house_year_manual(df)\n",
    "    df = df_fix_room(df)\n",
    "    df = df_fix_square(df)\n",
    "    df = prepare_lifesquare(df)\n",
    "    df = fillna_life_square(df)\n",
    "    df = df_del_missing(df)\n",
    "    df = add_cluster_year(df)\n",
    "    df = add_mean_price(df, df_train)\n",
    "    df = add_distr_info(df)\n",
    "    df = pd.get_dummies(df)\n",
    "    df.drop('mean_square_per_room_in_dr', axis=1, inplace=True)\n",
    "    df.drop('mean_square_rooms_dr', axis=1, inplace=True)\n",
    "    optimizing_df(df)\n",
    "    return df\n",
    "\n",
    "\n",
    "def model_test(model, name, test, valid):\n",
    "    model_pred = model.predict(test)\n",
    "    r2 = r2_score(valid, model_pred)\n",
    "    mse = mean_squared_error(valid, model_pred)\n",
    "    plt.scatter(valid, (model_pred - valid))\n",
    "    plt.xlabel(\"Predicted values\")\n",
    "    plt.ylabel(\"Real values\")\n",
    "    plt.title(name)\n",
    "    plt.legend([f'R2= {r2:.4f} and mse= {mse:.0e}'])\n",
    "    plt.axhline(0, color='red')\n",
    "    plt.show()\n",
    "\n",
    "\n",
    "def model_top_deviation(model, test, valid):\n",
    "    model_pred = model.predict(test)\n",
    "    model_test = test.copy()\n",
    "    model_test['Price'] = model_pred\n",
    "    model_test['Price_test'] = valid\n",
    "    model_test['SD'] = abs(model_test['Price']\n",
    "                           - model_test['Price_test'])\n",
    "    return model_test.nlargest(10, 'SD')"
   ]
  },
  {
   "cell_type": "markdown",
   "metadata": {},
   "source": [
    "Load packages"
   ]
  },
  {
   "cell_type": "code",
   "execution_count": null,
   "metadata": {},
   "outputs": [],
   "source": [
    "\n",
    "from sklearn.linear_model import LinearRegression\n",
    "from sklearn.ensemble import RandomForestRegressor\n",
    "from sklearn.ensemble import GradientBoostingRegressor\n",
    "from sklearn.linear_model import LassoCV\n",
    "from xgboost import XGBRegressor\n",
    "from lightgbm import LGBMRegressor\n",
    "\n",
    "from sklearn.model_selection import GridSearchCV\n",
    "\n",
    "from sklearn.metrics import r2_score\n",
    "from sklearn.metrics import mean_squared_error\n",
    "\n",
    "from sklearn.model_selection import train_test_split"
   ]
  },
  {
   "cell_type": "markdown",
   "metadata": {},
   "source": [
    "Data processing"
   ]
  },
  {
   "cell_type": "code",
   "execution_count": null,
   "metadata": {},
   "outputs": [],
   "source": [
    "print(train.columns)"
   ]
  },
  {
   "cell_type": "code",
   "execution_count": null,
   "metadata": {},
   "outputs": [],
   "source": [
    "\n",
    "features = list(train.loc[:, train.columns != 'Id'].corrwith(\n",
    "    train['Price']).abs().sort_values(ascending=False)[1:].index)\n",
    "\n",
    "target = 'Price'"
   ]
  },
  {
   "cell_type": "code",
   "execution_count": null,
   "metadata": {},
   "outputs": [],
   "source": [
    "train[features].head()"
   ]
  },
  {
   "cell_type": "code",
   "execution_count": null,
   "metadata": {},
   "outputs": [],
   "source": [
    "models_dict = {}"
   ]
  },
  {
   "cell_type": "code",
   "execution_count": null,
   "metadata": {},
   "outputs": [],
   "source": [
    "X_train, X_test, y_train, y_test = train_test_split(\n",
    "    train[features], train[target], test_size=0.3, random_state=42)"
   ]
  },
  {
   "cell_type": "code",
   "execution_count": null,
   "metadata": {},
   "outputs": [],
   "source": [
    "X_train = data_prepare(X_train, train)\n",
    "X_test = data_prepare(X_test, train)"
   ]
  },
  {
   "cell_type": "code",
   "execution_count": null,
   "metadata": {},
   "outputs": [],
   "source": [
    "X_train.info()"
   ]
  },
  {
   "cell_type": "code",
   "execution_count": null,
   "metadata": {},
   "outputs": [],
   "source": [
    "X_test.info()"
   ]
  },
  {
   "cell_type": "code",
   "execution_count": null,
   "metadata": {},
   "outputs": [],
   "source": [
    "X_train.head()"
   ]
  },
  {
   "cell_type": "code",
   "execution_count": null,
   "metadata": {},
   "outputs": [],
   "source": [
    "\n",
    "y_train.head()"
   ]
  },
  {
   "cell_type": "markdown",
   "metadata": {},
   "source": [
    "Linear Regression"
   ]
  },
  {
   "cell_type": "code",
   "execution_count": null,
   "metadata": {},
   "outputs": [],
   "source": [
    "line_regression_model = LinearRegression()\n",
    "line_regression_model.fit(X_train, y_train)"
   ]
  },
  {
   "cell_type": "code",
   "execution_count": null,
   "metadata": {},
   "outputs": [],
   "source": [
    "LinearRegression(copy_X=True, fit_intercept=True, n_jobs=None, normalize=False)"
   ]
  },
  {
   "cell_type": "code",
   "execution_count": null,
   "metadata": {},
   "outputs": [],
   "source": [
    "models_dict['Linear Regression'] = line_regression_model"
   ]
  },
  {
   "cell_type": "markdown",
   "metadata": {},
   "source": [
    "Test Linear Regression"
   ]
  },
  {
   "cell_type": "code",
   "execution_count": null,
   "metadata": {},
   "outputs": [],
   "source": [
    "model_test(line_regression_model, 'Linear Regression', X_test, y_test)"
   ]
  },
  {
   "cell_type": "code",
   "execution_count": null,
   "metadata": {},
   "outputs": [],
   "source": [
    "model_top_deviation(line_regression_model, X_test, y_test)"
   ]
  },
  {
   "cell_type": "markdown",
   "metadata": {},
   "source": [
    "Random Forest Regressor"
   ]
  },
  {
   "cell_type": "code",
   "execution_count": null,
   "metadata": {},
   "outputs": [],
   "source": [
    "random_forest_regressor_model = RandomForestRegressor()\n",
    "random_forest_regressor_model.fit(X_train, y_train)"
   ]
  },
  {
   "cell_type": "code",
   "execution_count": null,
   "metadata": {},
   "outputs": [],
   "source": [
    "models_dict['Random Forest Regressor'] = random_forest_regressor_model"
   ]
  },
  {
   "cell_type": "markdown",
   "metadata": {},
   "source": [
    "Test Random Forest Regressor"
   ]
  },
  {
   "cell_type": "code",
   "execution_count": null,
   "metadata": {},
   "outputs": [],
   "source": [
    "model_test(random_forest_regressor_model,\n",
    "           'Random Forest Regressor', X_test, y_test)"
   ]
  },
  {
   "cell_type": "code",
   "execution_count": null,
   "metadata": {},
   "outputs": [],
   "source": [
    "model_top_deviation(random_forest_regressor_model, X_test, y_test)"
   ]
  },
  {
   "cell_type": "markdown",
   "metadata": {},
   "source": [
    "Gradient Boosting Regressor"
   ]
  },
  {
   "cell_type": "code",
   "execution_count": null,
   "metadata": {},
   "outputs": [],
   "source": [
    "gradient_boosting_regressor_model = GradientBoostingRegressor()\n",
    "gradient_boosting_regressor_model.fit(X_train, y_train)"
   ]
  },
  {
   "cell_type": "code",
   "execution_count": null,
   "metadata": {},
   "outputs": [],
   "source": [
    "models_dict['Gradient Boosting Regressor'] = gradient_boosting_regressor_model"
   ]
  },
  {
   "cell_type": "markdown",
   "metadata": {},
   "source": [
    "Test Gradient Boosting Regressor"
   ]
  },
  {
   "cell_type": "code",
   "execution_count": null,
   "metadata": {},
   "outputs": [],
   "source": [
    "model_test(gradient_boosting_regressor_model,\n",
    "           'Gradient Boosting Regressor', X_test, y_test)"
   ]
  },
  {
   "cell_type": "code",
   "execution_count": null,
   "metadata": {},
   "outputs": [],
   "source": [
    "model_top_deviation(gradient_boosting_regressor_model, X_test, y_test)"
   ]
  },
  {
   "cell_type": "markdown",
   "metadata": {},
   "source": [
    "LassoCV"
   ]
  },
  {
   "cell_type": "code",
   "execution_count": null,
   "metadata": {},
   "outputs": [],
   "source": [
    "lasso_cv_model = LassoCV()\n",
    "lasso_cv_model.fit(X_train, y_train)"
   ]
  },
  {
   "cell_type": "code",
   "execution_count": null,
   "metadata": {},
   "outputs": [],
   "source": [
    "models_dict['LassoCV'] = lasso_cv_model"
   ]
  },
  {
   "cell_type": "markdown",
   "metadata": {},
   "source": [
    "Test LassoCV"
   ]
  },
  {
   "cell_type": "code",
   "execution_count": null,
   "metadata": {},
   "outputs": [],
   "source": [
    "model_test(lasso_cv_model, 'LassoCV', X_test, y_test)"
   ]
  },
  {
   "cell_type": "code",
   "execution_count": null,
   "metadata": {},
   "outputs": [],
   "source": [
    "model_top_deviation(lasso_cv_model, X_test, y_test)"
   ]
  },
  {
   "cell_type": "code",
   "execution_count": null,
   "metadata": {},
   "outputs": [],
   "source": [
    "all_data.loc[all_data['KitchenSquare'] < 3]"
   ]
  },
  {
   "cell_type": "markdown",
   "metadata": {},
   "source": [
    "LGBMRegressor"
   ]
  },
  {
   "cell_type": "code",
   "execution_count": null,
   "metadata": {},
   "outputs": [],
   "source": [
    "\n",
    "lgbm_regressor_model = LGBMRegressor()\n",
    "lgbm_regressor_model.fit(X_train, y_train)"
   ]
  },
  {
   "cell_type": "markdown",
   "metadata": {},
   "source": [
    "Test LGBMRegressor"
   ]
  },
  {
   "cell_type": "code",
   "execution_count": null,
   "metadata": {},
   "outputs": [],
   "source": [
    "model_test(lgbm_regressor_model, 'LGBMRegressor', X_test, y_test)"
   ]
  },
  {
   "cell_type": "code",
   "execution_count": null,
   "metadata": {},
   "outputs": [],
   "source": [
    "model_top_deviation(lgbm_regressor_model, X_test, y_test)"
   ]
  },
  {
   "cell_type": "markdown",
   "metadata": {},
   "source": [
    "Tunning LGBMRegressor"
   ]
  },
  {
   "cell_type": "code",
   "execution_count": null,
   "metadata": {},
   "outputs": [],
   "source": [
    "lgbm_regressor_model.get_params"
   ]
  },
  {
   "cell_type": "code",
   "execution_count": null,
   "metadata": {},
   "outputs": [],
   "source": [
    "\n",
    "np.arange(0.01, 0.05, 0.01)"
   ]
  },
  {
   "cell_type": "code",
   "execution_count": null,
   "metadata": {},
   "outputs": [],
   "source": [
    "parameters = [{\n",
    "    'max_bin': np.arange(90, 120, 10),\n",
    "    'n_estimators': np.arange(4000, 7000, 1000),\n",
    "    'learning_rate': np.arange(0.01, 0.05, 0.01)\n",
    "}]\n"
   ]
  },
  {
   "cell_type": "code",
   "execution_count": null,
   "metadata": {},
   "outputs": [],
   "source": [
    "clf = GridSearchCV(\n",
    "    estimator=LGBMRegressor(random_state=42),\n",
    "    param_grid=parameters,\n",
    "    scoring='neg_mean_squared_error',\n",
    "    cv=4,\n",
    "    n_jobs=-1,\n",
    ")\n"
   ]
  },
  {
   "cell_type": "code",
   "execution_count": null,
   "metadata": {},
   "outputs": [],
   "source": [
    "clf.fit(X_train, y_train)"
   ]
  },
  {
   "cell_type": "code",
   "execution_count": null,
   "metadata": {},
   "outputs": [],
   "source": [
    "cv_results = pd.DataFrame(clf.cv_results_)\n",
    "param_columns = [\n",
    "    column\n",
    "    for column in cv_results.columns\n",
    "    if column.startswith('param_')\n",
    "]\n",
    "\n",
    "score_columns = ['mean_test_score']\n",
    "\n",
    "cv_results = (cv_results[param_columns + score_columns]\n",
    "              .sort_values(by=score_columns, ascending=False))\n",
    "\n",
    "cv_results.head(10)"
   ]
  },
  {
   "cell_type": "code",
   "execution_count": null,
   "metadata": {},
   "outputs": [],
   "source": [
    "clf.best_params_"
   ]
  },
  {
   "cell_type": "markdown",
   "metadata": {},
   "source": [
    "Test tunning LGBMRegressor"
   ]
  },
  {
   "cell_type": "code",
   "execution_count": 186,
   "metadata": {},
   "outputs": [
    {
     "data": {
      "text/plain": [
       "LGBMRegressor(boosting_type='gbdt', class_weight=None, colsample_bytree=1.0,\n",
       "              importance_type='split', learning_rate=0.01, max_bin=110,\n",
       "              max_depth=-1, min_child_samples=20, min_child_weight=0.001,\n",
       "              min_split_gain=0.0, n_estimators=4000, n_jobs=-1, num_leaves=4,\n",
       "              objective=None, random_state=None, reg_alpha=0.0, reg_lambda=0.0,\n",
       "              silent=True, subsample=1.0, subsample_for_bin=200000,\n",
       "              subsample_freq=0)"
      ]
     },
     "execution_count": 186,
     "metadata": {},
     "output_type": "execute_result"
    }
   ],
   "source": [
    "lgbm_regressor_model = LGBMRegressor(\n",
    "    max_bin=110,\n",
    "    num_leaves=4,\n",
    "    n_estimators=4000,\n",
    "    learning_rate=0.01\n",
    ")\n",
    "lgbm_regressor_model.fit(X_train, y_train)"
   ]
  },
  {
   "cell_type": "code",
   "execution_count": 187,
   "metadata": {},
   "outputs": [
    {
     "data": {
      "image/png": "[encoded data removed]",
      "text/plain": [
       "<Figure size 432x288 with 1 Axes>"
      ]
     },
     "metadata": {
      "needs_background": "light"
     },
     "output_type": "display_data"
    }
   ],
   "source": [
    "model_test(lgbm_regressor_model, 'LGBMRegressor', X_test, y_test)"
   ]
  },
  {
   "cell_type": "code",
   "execution_count": 188,
   "metadata": {},
   "outputs": [],
   "source": [
    "\n",
    "models_dict['LGBMRegressor'] = lgbm_regressor_model"
   ]
  },
  {
   "cell_type": "markdown",
   "metadata": {},
   "source": [
    "XGBRegressor"
   ]
  },
  {
   "cell_type": "code",
   "execution_count": 189,
   "metadata": {},
   "outputs": [
    {
     "data": {
      "text/plain": [
       "XGBRegressor(base_score=0.5, booster='gbtree', colsample_bylevel=1,\n",
       "             colsample_bynode=1, colsample_bytree=1, gamma=0, gpu_id=-1,\n",
       "             importance_type='gain', interaction_constraints='',\n",
       "             learning_rate=0.300000012, max_delta_step=0, max_depth=6,\n",
       "             min_child_weight=1, missing=nan, monotone_constraints='()',\n",
       "             n_estimators=100, n_jobs=0, num_parallel_tree=1,\n",
       "             objective='reg:squarederror', random_state=0, reg_alpha=0,\n",
       "             reg_lambda=1, scale_pos_weight=1, subsample=1, tree_method='exact',\n",
       "             validate_parameters=1, verbosity=None)"
      ]
     },
     "execution_count": 189,
     "metadata": {},
     "output_type": "execute_result"
    }
   ],
   "source": [
    "xgboost_model = XGBRegressor()\n",
    "xgboost_model.fit(X_train, y_train)"
   ]
  },
  {
   "cell_type": "code",
   "execution_count": 190,
   "metadata": {},
   "outputs": [],
   "source": [
    "\n",
    "models_dict['XGBRegressor'] = xgboost_model"
   ]
  },
  {
   "cell_type": "markdown",
   "metadata": {},
   "source": [
    "Test XGBRegressor"
   ]
  },
  {
   "cell_type": "code",
   "execution_count": 191,
   "metadata": {},
   "outputs": [
    {
     "data": {
      "image/png": "[encoded data removed]",
      "text/plain": [
       "<Figure size 432x288 with 1 Axes>"
      ]
     },
     "metadata": {
      "needs_background": "light"
     },
     "output_type": "display_data"
    }
   ],
   "source": [
    "model_test(xgboost_model, 'XGBRegressor', X_test, y_test)"
   ]
  },
  {
   "cell_type": "code",
   "execution_count": 192,
   "metadata": {},
   "outputs": [
    {
     "data": {
      "text/html": [
       "<div>\n",
       "<style scoped>\n",
       "    .dataframe tbody tr th:only-of-type {\n",
       "        vertical-align: middle;\n",
       "    }\n",
       "\n",
       "    .dataframe tbody tr th {\n",
       "        vertical-align: top;\n",
       "    }\n",
       "\n",
       "    .dataframe thead th {\n",
       "        text-align: right;\n",
       "    }\n",
       "</style>\n",
       "<table border=\"1\" class=\"dataframe\">\n",
       "  <thead>\n",
       "    <tr style=\"text-align: right;\">\n",
       "      <th></th>\n",
       "      <th>Rooms</th>\n",
       "      <th>Square</th>\n",
       "      <th>DistrictId</th>\n",
       "      <th>Social_1</th>\n",
       "      <th>Helthcare_2</th>\n",
       "      <th>Social_2</th>\n",
       "      <th>Shops_1</th>\n",
       "      <th>Floor</th>\n",
       "      <th>HouseFloor</th>\n",
       "      <th>LifeSquare</th>\n",
       "      <th>...</th>\n",
       "      <th>Ecology_1</th>\n",
       "      <th>KitchenSquare</th>\n",
       "      <th>HouseYear</th>\n",
       "      <th>cluster_year</th>\n",
       "      <th>mean_price_dr</th>\n",
       "      <th>mean_price_by_rooms</th>\n",
       "      <th>large_district</th>\n",
       "      <th>Price</th>\n",
       "      <th>Price_test</th>\n",
       "      <th>SD</th>\n",
       "    </tr>\n",
       "  </thead>\n",
       "  <tbody>\n",
       "    <tr>\n",
       "      <th>23</th>\n",
       "      <td>1</td>\n",
       "      <td>47.347305</td>\n",
       "      <td>23</td>\n",
       "      <td>2</td>\n",
       "      <td>0</td>\n",
       "      <td>475</td>\n",
       "      <td>0</td>\n",
       "      <td>7</td>\n",
       "      <td>9</td>\n",
       "      <td>35.936565</td>\n",
       "      <td>...</td>\n",
       "      <td>0.014073</td>\n",
       "      <td>1.0</td>\n",
       "      <td>1977</td>\n",
       "      <td>2</td>\n",
       "      <td>100961.812500</td>\n",
       "      <td>159850.796875</td>\n",
       "      <td>171</td>\n",
       "      <td>115571.468750</td>\n",
       "      <td>571069.062500</td>\n",
       "      <td>455497.59375</td>\n",
       "    </tr>\n",
       "    <tr>\n",
       "      <th>1918</th>\n",
       "      <td>1</td>\n",
       "      <td>46.869541</td>\n",
       "      <td>1</td>\n",
       "      <td>1</td>\n",
       "      <td>0</td>\n",
       "      <td>264</td>\n",
       "      <td>1</td>\n",
       "      <td>16</td>\n",
       "      <td>24</td>\n",
       "      <td>35.936565</td>\n",
       "      <td>...</td>\n",
       "      <td>0.007122</td>\n",
       "      <td>1.0</td>\n",
       "      <td>1977</td>\n",
       "      <td>2</td>\n",
       "      <td>147454.609375</td>\n",
       "      <td>159850.796875</td>\n",
       "      <td>186</td>\n",
       "      <td>149062.093750</td>\n",
       "      <td>594565.312500</td>\n",
       "      <td>445503.21875</td>\n",
       "    </tr>\n",
       "    <tr>\n",
       "      <th>2439</th>\n",
       "      <td>1</td>\n",
       "      <td>39.709106</td>\n",
       "      <td>6</td>\n",
       "      <td>5</td>\n",
       "      <td>0</td>\n",
       "      <td>1564</td>\n",
       "      <td>0</td>\n",
       "      <td>10</td>\n",
       "      <td>25</td>\n",
       "      <td>1.836365</td>\n",
       "      <td>...</td>\n",
       "      <td>0.243205</td>\n",
       "      <td>1.0</td>\n",
       "      <td>2017</td>\n",
       "      <td>3</td>\n",
       "      <td>135294.171875</td>\n",
       "      <td>159850.796875</td>\n",
       "      <td>156</td>\n",
       "      <td>122787.484375</td>\n",
       "      <td>556931.562500</td>\n",
       "      <td>434144.06250</td>\n",
       "    </tr>\n",
       "    <tr>\n",
       "      <th>350</th>\n",
       "      <td>3</td>\n",
       "      <td>126.621361</td>\n",
       "      <td>24</td>\n",
       "      <td>50</td>\n",
       "      <td>2</td>\n",
       "      <td>12238</td>\n",
       "      <td>3</td>\n",
       "      <td>22</td>\n",
       "      <td>48</td>\n",
       "      <td>62.455482</td>\n",
       "      <td>...</td>\n",
       "      <td>0.111627</td>\n",
       "      <td>12.0</td>\n",
       "      <td>2011</td>\n",
       "      <td>3</td>\n",
       "      <td>361843.250000</td>\n",
       "      <td>289337.968750</td>\n",
       "      <td>12</td>\n",
       "      <td>501777.468750</td>\n",
       "      <td>100226.367188</td>\n",
       "      <td>401551.09375</td>\n",
       "    </tr>\n",
       "    <tr>\n",
       "      <th>1233</th>\n",
       "      <td>1</td>\n",
       "      <td>42.475578</td>\n",
       "      <td>27</td>\n",
       "      <td>4</td>\n",
       "      <td>0</td>\n",
       "      <td>915</td>\n",
       "      <td>0</td>\n",
       "      <td>12</td>\n",
       "      <td>20</td>\n",
       "      <td>35.936565</td>\n",
       "      <td>...</td>\n",
       "      <td>0.011654</td>\n",
       "      <td>10.0</td>\n",
       "      <td>1977</td>\n",
       "      <td>2</td>\n",
       "      <td>122710.742188</td>\n",
       "      <td>159850.796875</td>\n",
       "      <td>277</td>\n",
       "      <td>121276.984375</td>\n",
       "      <td>514137.343750</td>\n",
       "      <td>392860.37500</td>\n",
       "    </tr>\n",
       "    <tr>\n",
       "      <th>511</th>\n",
       "      <td>1</td>\n",
       "      <td>43.613430</td>\n",
       "      <td>6</td>\n",
       "      <td>5</td>\n",
       "      <td>0</td>\n",
       "      <td>1564</td>\n",
       "      <td>0</td>\n",
       "      <td>3</td>\n",
       "      <td>17</td>\n",
       "      <td>3.668460</td>\n",
       "      <td>...</td>\n",
       "      <td>0.243205</td>\n",
       "      <td>1.0</td>\n",
       "      <td>2016</td>\n",
       "      <td>3</td>\n",
       "      <td>135294.171875</td>\n",
       "      <td>159850.796875</td>\n",
       "      <td>156</td>\n",
       "      <td>128431.046875</td>\n",
       "      <td>518952.656250</td>\n",
       "      <td>390521.62500</td>\n",
       "    </tr>\n",
       "    <tr>\n",
       "      <th>2094</th>\n",
       "      <td>4</td>\n",
       "      <td>98.385445</td>\n",
       "      <td>69</td>\n",
       "      <td>33</td>\n",
       "      <td>1</td>\n",
       "      <td>6783</td>\n",
       "      <td>9</td>\n",
       "      <td>14</td>\n",
       "      <td>22</td>\n",
       "      <td>76.081772</td>\n",
       "      <td>...</td>\n",
       "      <td>0.000991</td>\n",
       "      <td>9.0</td>\n",
       "      <td>1979</td>\n",
       "      <td>4</td>\n",
       "      <td>500774.125000</td>\n",
       "      <td>383251.093750</td>\n",
       "      <td>8</td>\n",
       "      <td>480252.406250</td>\n",
       "      <td>91775.320312</td>\n",
       "      <td>388477.09375</td>\n",
       "    </tr>\n",
       "    <tr>\n",
       "      <th>1298</th>\n",
       "      <td>3</td>\n",
       "      <td>66.674217</td>\n",
       "      <td>137</td>\n",
       "      <td>23</td>\n",
       "      <td>2</td>\n",
       "      <td>3975</td>\n",
       "      <td>0</td>\n",
       "      <td>8</td>\n",
       "      <td>10</td>\n",
       "      <td>43.174759</td>\n",
       "      <td>...</td>\n",
       "      <td>0.200147</td>\n",
       "      <td>9.0</td>\n",
       "      <td>1954</td>\n",
       "      <td>0</td>\n",
       "      <td>475467.500000</td>\n",
       "      <td>289337.968750</td>\n",
       "      <td>3</td>\n",
       "      <td>472724.312500</td>\n",
       "      <td>91325.367188</td>\n",
       "      <td>381398.93750</td>\n",
       "    </tr>\n",
       "    <tr>\n",
       "      <th>461</th>\n",
       "      <td>3</td>\n",
       "      <td>68.746971</td>\n",
       "      <td>23</td>\n",
       "      <td>0</td>\n",
       "      <td>0</td>\n",
       "      <td>168</td>\n",
       "      <td>0</td>\n",
       "      <td>12</td>\n",
       "      <td>17</td>\n",
       "      <td>64.210121</td>\n",
       "      <td>...</td>\n",
       "      <td>0.034656</td>\n",
       "      <td>1.0</td>\n",
       "      <td>2017</td>\n",
       "      <td>3</td>\n",
       "      <td>170912.203125</td>\n",
       "      <td>289337.968750</td>\n",
       "      <td>171</td>\n",
       "      <td>130549.789062</td>\n",
       "      <td>497573.375000</td>\n",
       "      <td>367023.59375</td>\n",
       "    </tr>\n",
       "    <tr>\n",
       "      <th>1544</th>\n",
       "      <td>3</td>\n",
       "      <td>117.237801</td>\n",
       "      <td>2</td>\n",
       "      <td>42</td>\n",
       "      <td>0</td>\n",
       "      <td>9292</td>\n",
       "      <td>3</td>\n",
       "      <td>2</td>\n",
       "      <td>15</td>\n",
       "      <td>62.361488</td>\n",
       "      <td>...</td>\n",
       "      <td>0.035145</td>\n",
       "      <td>17.0</td>\n",
       "      <td>2008</td>\n",
       "      <td>1</td>\n",
       "      <td>342699.343750</td>\n",
       "      <td>289337.968750</td>\n",
       "      <td>20</td>\n",
       "      <td>522050.625000</td>\n",
       "      <td>169471.515625</td>\n",
       "      <td>352579.12500</td>\n",
       "    </tr>\n",
       "  </tbody>\n",
       "</table>\n",
       "<p>10 rows × 21 columns</p>\n",
       "</div>"
      ],
      "text/plain": [
       "      Rooms      Square  DistrictId  Social_1  Helthcare_2  Social_2  Shops_1  \\\n",
       "23        1   47.347305          23         2            0       475        0   \n",
       "1918      1   46.869541           1         1            0       264        1   \n",
       "2439      1   39.709106           6         5            0      1564        0   \n",
       "350       3  126.621361          24        50            2     12238        3   \n",
       "1233      1   42.475578          27         4            0       915        0   \n",
       "511       1   43.613430           6         5            0      1564        0   \n",
       "2094      4   98.385445          69        33            1      6783        9   \n",
       "1298      3   66.674217         137        23            2      3975        0   \n",
       "461       3   68.746971          23         0            0       168        0   \n",
       "1544      3  117.237801           2        42            0      9292        3   \n",
       "\n",
       "      Floor  HouseFloor  LifeSquare  ...  Ecology_1  KitchenSquare  HouseYear  \\\n",
       "23        7           9   35.936565  ...   0.014073            1.0       1977   \n",
       "1918     16          24   35.936565  ...   0.007122            1.0       1977   \n",
       "2439     10          25    1.836365  ...   0.243205            1.0       2017   \n",
       "350      22          48   62.455482  ...   0.111627           12.0       2011   \n",
       "1233     12          20   35.936565  ...   0.011654           10.0       1977   \n",
       "511       3          17    3.668460  ...   0.243205            1.0       2016   \n",
       "2094     14          22   76.081772  ...   0.000991            9.0       1979   \n",
       "1298      8          10   43.174759  ...   0.200147            9.0       1954   \n",
       "461      12          17   64.210121  ...   0.034656            1.0       2017   \n",
       "1544      2          15   62.361488  ...   0.035145           17.0       2008   \n",
       "\n",
       "      cluster_year  mean_price_dr  mean_price_by_rooms  large_district  \\\n",
       "23               2  100961.812500        159850.796875             171   \n",
       "1918             2  147454.609375        159850.796875             186   \n",
       "2439             3  135294.171875        159850.796875             156   \n",
       "350              3  361843.250000        289337.968750              12   \n",
       "1233             2  122710.742188        159850.796875             277   \n",
       "511              3  135294.171875        159850.796875             156   \n",
       "2094             4  500774.125000        383251.093750               8   \n",
       "1298             0  475467.500000        289337.968750               3   \n",
       "461              3  170912.203125        289337.968750             171   \n",
       "1544             1  342699.343750        289337.968750              20   \n",
       "\n",
       "              Price     Price_test            SD  \n",
       "23    115571.468750  571069.062500  455497.59375  \n",
       "1918  149062.093750  594565.312500  445503.21875  \n",
       "2439  122787.484375  556931.562500  434144.06250  \n",
       "350   501777.468750  100226.367188  401551.09375  \n",
       "1233  121276.984375  514137.343750  392860.37500  \n",
       "511   128431.046875  518952.656250  390521.62500  \n",
       "2094  480252.406250   91775.320312  388477.09375  \n",
       "1298  472724.312500   91325.367188  381398.93750  \n",
       "461   130549.789062  497573.375000  367023.59375  \n",
       "1544  522050.625000  169471.515625  352579.12500  \n",
       "\n",
       "[10 rows x 21 columns]"
      ]
     },
     "execution_count": 192,
     "metadata": {},
     "output_type": "execute_result"
    }
   ],
   "source": [
    "model_top_deviation(xgboost_model, X_test, y_test)"
   ]
  },
  {
   "cell_type": "markdown",
   "metadata": {},
   "source": [
    "Result"
   ]
  },
  {
   "cell_type": "code",
   "execution_count": 193,
   "metadata": {},
   "outputs": [],
   "source": [
    "from sklearn.metrics import r2_score\n",
    "from sklearn.metrics import mean_squared_error"
   ]
  },
  {
   "cell_type": "markdown",
   "metadata": {},
   "source": [
    "Function"
   ]
  },
  {
   "cell_type": "code",
   "execution_count": 194,
   "metadata": {},
   "outputs": [],
   "source": [
    "def models_r2(models, test, valid):\n",
    "    scores = pd.DataFrame(columns=['name', 'r2', 'mse'])\n",
    "    for name, model in models.items():\n",
    "        test_pred = model.predict(test)\n",
    "        r2 = r2_score(valid, test_pred)\n",
    "        mse = mean_squared_error(valid, test_pred)\n",
    "        scores = scores.append(\n",
    "            {'name': name, 'r2': r2, 'mse': mse}, ignore_index=True)\n",
    "    scores.sort_values('r2', ascending=False, inplace=True)\n",
    "    return scores"
   ]
  },
  {
   "cell_type": "markdown",
   "metadata": {},
   "source": [
    "Choosing the best model"
   ]
  },
  {
   "cell_type": "code",
   "execution_count": 195,
   "metadata": {},
   "outputs": [],
   "source": [
    "models_score_test = models_r2(models_dict, X_test, y_test)\n",
    "models_score_train = models_r2(models_dict, X_train, y_train)"
   ]
  },
  {
   "cell_type": "code",
   "execution_count": 197,
   "metadata": {},
   "outputs": [
    {
     "data": {
      "text/html": [
       "<div>\n",
       "<style scoped>\n",
       "    .dataframe tbody tr th:only-of-type {\n",
       "        vertical-align: middle;\n",
       "    }\n",
       "\n",
       "    .dataframe tbody tr th {\n",
       "        vertical-align: top;\n",
       "    }\n",
       "\n",
       "    .dataframe thead th {\n",
       "        text-align: right;\n",
       "    }\n",
       "</style>\n",
       "<table border=\"1\" class=\"dataframe\">\n",
       "  <thead>\n",
       "    <tr style=\"text-align: right;\">\n",
       "      <th></th>\n",
       "      <th>name</th>\n",
       "      <th>r2</th>\n",
       "    </tr>\n",
       "  </thead>\n",
       "  <tbody>\n",
       "    <tr>\n",
       "      <th>3</th>\n",
       "      <td>LGBMRegressor</td>\n",
       "      <td>0.754293</td>\n",
       "    </tr>\n",
       "    <tr>\n",
       "      <th>1</th>\n",
       "      <td>Gradient Boosting Regressor</td>\n",
       "      <td>0.740173</td>\n",
       "    </tr>\n",
       "    <tr>\n",
       "      <th>4</th>\n",
       "      <td>XGBRegressor</td>\n",
       "      <td>0.738379</td>\n",
       "    </tr>\n",
       "    <tr>\n",
       "      <th>0</th>\n",
       "      <td>Linear Regression</td>\n",
       "      <td>0.696283</td>\n",
       "    </tr>\n",
       "    <tr>\n",
       "      <th>2</th>\n",
       "      <td>LassoCV</td>\n",
       "      <td>0.628189</td>\n",
       "    </tr>\n",
       "  </tbody>\n",
       "</table>\n",
       "</div>"
      ],
      "text/plain": [
       "                          name        r2\n",
       "3                LGBMRegressor  0.754293\n",
       "1  Gradient Boosting Regressor  0.740173\n",
       "4                 XGBRegressor  0.738379\n",
       "0            Linear Regression  0.696283\n",
       "2                      LassoCV  0.628189"
      ]
     },
     "execution_count": 197,
     "metadata": {},
     "output_type": "execute_result"
    }
   ],
   "source": [
    "models_score_test[['name', 'r2']]"
   ]
  },
  {
   "cell_type": "code",
   "execution_count": 198,
   "metadata": {},
   "outputs": [
    {
     "data": {
      "image/png": "[encoded data removed]",
      "text/plain": [
       "<Figure size 432x288 with 1 Axes>"
      ]
     },
     "metadata": {
      "needs_background": "light"
     },
     "output_type": "display_data"
    }
   ],
   "source": [
    "\n",
    "r2_max_test = models_score_test['r2'].max()\n",
    "r2_max_train = models_score_train['r2'].max()\n",
    "plt.barh(models_score_test['name'], models_score_test['r2'],\n",
    "         alpha=0.5, color='red', label=f'Test  Data: R2 max: {r2_max_test:.4f}')\n",
    "plt.barh(models_score_train['name'], models_score_train['r2'],\n",
    "         alpha=0.5, color='grey', label=f'Train Data: R2 max: {r2_max_train:.4f}')\n",
    "plt.title('R2')\n",
    "plt.legend()\n",
    "plt.axvline(0.6, color='red')\n",
    "plt.axvline(r2_max_test, color='yellow')\n",
    "plt.show()"
   ]
  },
  {
   "cell_type": "code",
   "execution_count": 199,
   "metadata": {},
   "outputs": [
    {
     "data": {
      "image/png": "[encoded data removed]",
      "text/plain": [
       "<Figure size 432x288 with 1 Axes>"
      ]
     },
     "metadata": {
      "needs_background": "light"
     },
     "output_type": "display_data"
    }
   ],
   "source": [
    "mse_min_test = models_score_test['mse'].min()\n",
    "mse_min_train = models_score_train['mse'].min()\n",
    "plt.barh(models_score_test['name'], models_score_test['mse'],\n",
    "         alpha=0.5, color='red', label=f'Test  Data MSE min: {mse_min_test:.0e}')\n",
    "plt.barh(models_score_train['name'], models_score_train['mse'],\n",
    "         alpha=0.5, color='grey', label=f'Train Data MSE min: {mse_min_train:.0e}')\n",
    "plt.title('Mean squared error')\n",
    "plt.legend(loc=2)\n",
    "plt.axvline(mse_min_test, color='yellow')\n",
    "plt.show()"
   ]
  },
  {
   "cell_type": "code",
   "execution_count": 201,
   "metadata": {},
   "outputs": [],
   "source": [
    "best_model = models_dict['LGBMRegressor']"
   ]
  },
  {
   "cell_type": "code",
   "execution_count": 202,
   "metadata": {},
   "outputs": [
    {
     "data": {
      "text/html": [
       "<div>\n",
       "<style scoped>\n",
       "    .dataframe tbody tr th:only-of-type {\n",
       "        vertical-align: middle;\n",
       "    }\n",
       "\n",
       "    .dataframe tbody tr th {\n",
       "        vertical-align: top;\n",
       "    }\n",
       "\n",
       "    .dataframe thead th {\n",
       "        text-align: right;\n",
       "    }\n",
       "</style>\n",
       "<table border=\"1\" class=\"dataframe\">\n",
       "  <thead>\n",
       "    <tr style=\"text-align: right;\">\n",
       "      <th></th>\n",
       "      <th>name</th>\n",
       "      <th>importances</th>\n",
       "    </tr>\n",
       "  </thead>\n",
       "  <tbody>\n",
       "    <tr>\n",
       "      <th>0</th>\n",
       "      <td>Rooms</td>\n",
       "      <td>583</td>\n",
       "    </tr>\n",
       "    <tr>\n",
       "      <th>1</th>\n",
       "      <td>Square</td>\n",
       "      <td>1616</td>\n",
       "    </tr>\n",
       "    <tr>\n",
       "      <th>2</th>\n",
       "      <td>DistrictId</td>\n",
       "      <td>514</td>\n",
       "    </tr>\n",
       "    <tr>\n",
       "      <th>3</th>\n",
       "      <td>Social_1</td>\n",
       "      <td>622</td>\n",
       "    </tr>\n",
       "    <tr>\n",
       "      <th>4</th>\n",
       "      <td>Helthcare_2</td>\n",
       "      <td>105</td>\n",
       "    </tr>\n",
       "    <tr>\n",
       "      <th>5</th>\n",
       "      <td>Social_2</td>\n",
       "      <td>422</td>\n",
       "    </tr>\n",
       "    <tr>\n",
       "      <th>6</th>\n",
       "      <td>Shops_1</td>\n",
       "      <td>359</td>\n",
       "    </tr>\n",
       "    <tr>\n",
       "      <th>7</th>\n",
       "      <td>Floor</td>\n",
       "      <td>415</td>\n",
       "    </tr>\n",
       "    <tr>\n",
       "      <th>8</th>\n",
       "      <td>HouseFloor</td>\n",
       "      <td>780</td>\n",
       "    </tr>\n",
       "    <tr>\n",
       "      <th>9</th>\n",
       "      <td>LifeSquare</td>\n",
       "      <td>455</td>\n",
       "    </tr>\n",
       "    <tr>\n",
       "      <th>10</th>\n",
       "      <td>Social_3</td>\n",
       "      <td>607</td>\n",
       "    </tr>\n",
       "    <tr>\n",
       "      <th>11</th>\n",
       "      <td>Ecology_1</td>\n",
       "      <td>878</td>\n",
       "    </tr>\n",
       "    <tr>\n",
       "      <th>12</th>\n",
       "      <td>KitchenSquare</td>\n",
       "      <td>660</td>\n",
       "    </tr>\n",
       "    <tr>\n",
       "      <th>13</th>\n",
       "      <td>HouseYear</td>\n",
       "      <td>1185</td>\n",
       "    </tr>\n",
       "    <tr>\n",
       "      <th>14</th>\n",
       "      <td>cluster_year</td>\n",
       "      <td>92</td>\n",
       "    </tr>\n",
       "    <tr>\n",
       "      <th>15</th>\n",
       "      <td>mean_price_dr</td>\n",
       "      <td>1750</td>\n",
       "    </tr>\n",
       "    <tr>\n",
       "      <th>16</th>\n",
       "      <td>mean_price_by_rooms</td>\n",
       "      <td>154</td>\n",
       "    </tr>\n",
       "    <tr>\n",
       "      <th>17</th>\n",
       "      <td>large_district</td>\n",
       "      <td>803</td>\n",
       "    </tr>\n",
       "  </tbody>\n",
       "</table>\n",
       "</div>"
      ],
      "text/plain": [
       "                   name  importances\n",
       "0                 Rooms          583\n",
       "1                Square         1616\n",
       "2            DistrictId          514\n",
       "3              Social_1          622\n",
       "4           Helthcare_2          105\n",
       "5              Social_2          422\n",
       "6               Shops_1          359\n",
       "7                 Floor          415\n",
       "8            HouseFloor          780\n",
       "9            LifeSquare          455\n",
       "10             Social_3          607\n",
       "11            Ecology_1          878\n",
       "12        KitchenSquare          660\n",
       "13            HouseYear         1185\n",
       "14         cluster_year           92\n",
       "15        mean_price_dr         1750\n",
       "16  mean_price_by_rooms          154\n",
       "17       large_district          803"
      ]
     },
     "execution_count": 202,
     "metadata": {},
     "output_type": "execute_result"
    }
   ],
   "source": [
    "pd.DataFrame({'name': list(X_train.columns),\n",
    "              'importances': list(best_model.feature_importances_)})"
   ]
  },
  {
   "cell_type": "code",
   "execution_count": 203,
   "metadata": {},
   "outputs": [
    {
     "data": {
      "image/png": "[encoded data removed]",
      "text/plain": [
       "<Figure size 432x288 with 1 Axes>"
      ]
     },
     "metadata": {
      "needs_background": "light"
     },
     "output_type": "display_data"
    }
   ],
   "source": [
    "model_test(best_model, 'best_model', X_test, y_test)"
   ]
  },
  {
   "cell_type": "markdown",
   "metadata": {},
   "source": [
    "Output Files"
   ]
  },
  {
   "cell_type": "code",
   "execution_count": 140,
   "metadata": {},
   "outputs": [],
   "source": [
    "\n",
    "test = data_prepare(test)"
   ]
  },
  {
   "cell_type": "code",
   "execution_count": 204,
   "metadata": {},
   "outputs": [],
   "source": [
    "test_features = list(X_train.columns)"
   ]
  },
  {
   "cell_type": "code",
   "execution_count": 205,
   "metadata": {},
   "outputs": [
    {
     "name": "stdout",
     "output_type": "stream",
     "text": [
      "<class 'pandas.core.frame.DataFrame'>\n",
      "Int64Index: 5000 entries, 0 to 4999\n",
      "Data columns (total 18 columns):\n",
      " #   Column               Non-Null Count  Dtype  \n",
      "---  ------               --------------  -----  \n",
      " 0   Rooms                5000 non-null   uint8  \n",
      " 1   Square               5000 non-null   float32\n",
      " 2   DistrictId           5000 non-null   uint8  \n",
      " 3   Social_1             5000 non-null   uint8  \n",
      " 4   Helthcare_2          5000 non-null   uint8  \n",
      " 5   Social_2             5000 non-null   uint16 \n",
      " 6   Shops_1              5000 non-null   uint8  \n",
      " 7   Floor                5000 non-null   uint8  \n",
      " 8   HouseFloor           5000 non-null   uint8  \n",
      " 9   LifeSquare           5000 non-null   float32\n",
      " 10  Social_3             5000 non-null   uint8  \n",
      " 11  Ecology_1            5000 non-null   float32\n",
      " 12  KitchenSquare        5000 non-null   float32\n",
      " 13  HouseYear            5000 non-null   uint16 \n",
      " 14  cluster_year         5000 non-null   uint8  \n",
      " 15  mean_price_dr        5000 non-null   float32\n",
      " 16  mean_price_by_rooms  5000 non-null   float32\n",
      " 17  large_district       5000 non-null   uint16 \n",
      "dtypes: float32(6), uint16(3), uint8(9)\n",
      "memory usage: 229.5 KB\n"
     ]
    }
   ],
   "source": [
    "test[test_features].info()"
   ]
  },
  {
   "cell_type": "code",
   "execution_count": 209,
   "metadata": {},
   "outputs": [],
   "source": [
    "test['Price'] = best_model.predict(test[test_features])"
   ]
  },
  {
   "cell_type": "code",
   "execution_count": 208,
   "metadata": {},
   "outputs": [
    {
     "name": "stdout",
     "output_type": "stream",
     "text": [
      "mu = 215662.41 and sigma = 78147.05\n"
     ]
    },
    {
     "data": {
      "image/png": "[encoded data removed]",
      "text/plain": [
       "<Figure size 432x288 with 1 Axes>"
      ]
     },
     "metadata": {
      "needs_background": "light"
     },
     "output_type": "display_data"
    },
    {
     "data": {
      "image/png": "[encoded data removed]",
      "text/plain": [
       "<Figure size 432x288 with 1 Axes>"
      ]
     },
     "metadata": {
      "needs_background": "light"
     },
     "output_type": "display_data"
    }
   ],
   "source": [
    "price_log = np.log1p(test['Price'])\n",
    "sns.distplot(price_log, fit=norm)\n",
    "\n",
    "mu, sigma = norm.fit(test['Price'])\n",
    "\n",
    "print(f'mu = {mu:.2f} and sigma = {sigma:.2f}')\n",
    "\n",
    "plt.legend(\n",
    "    [f'Normal dist. ($\\mu=$ {mu:.2f} and $\\sigma=$ {sigma:.2f} )'], loc='best')\n",
    "plt.ylabel('Frequency')\n",
    "plt.title('Price distribution')\n",
    "\n",
    "# QQ-plot\n",
    "fig = plt.figure()\n",
    "res = stats.probplot(price_log, plot=plt)\n",
    "plt.show()"
   ]
  },
  {
   "cell_type": "code",
   "execution_count": null,
   "metadata": {},
   "outputs": [],
   "source": [
    "test[['Id', 'Price']].to_csv('Savchenko_predictions.csv', index=None)"
   ]
  },
  {
   "cell_type": "code",
   "execution_count": null,
   "metadata": {},
   "outputs": [],
   "source": []
  }
 ],
 "metadata": {
  "kernelspec": {
   "display_name": "Python 3",
   "language": "python",
   "name": "python3"
  },
  "language_info": {
   "codemirror_mode": {
    "name": "ipython",
    "version": 3
   },
   "file_extension": ".py",
   "mimetype": "text/x-python",
   "name": "python",
   "nbconvert_exporter": "python",
   "pygments_lexer": "ipython3",
   "version": "3.7.6"
  }
 },
 "nbformat": 4,
 "nbformat_minor": 4
}
